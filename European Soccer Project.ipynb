{
 "cells": [
  {
   "cell_type": "markdown",
   "metadata": {
    "collapsed": true
   },
   "source": [
    "# Project: European Soccer Data Analysis\n",
    "\n",
    "## Table of Contents\n",
    "<ul>\n",
    "<li><a href=\"#intro\">Introduction</a></li>\n",
    "<li><a href=\"#wrangling\">Data Wrangling</a></li>\n",
    "<li><a href=\"#eda\">Exploratory Data Analysis</a></li>\n",
    "<li><a href=\"#conclusions\">Conclusions</a></li>\n",
    "</ul>"
   ]
  },
  {
   "cell_type": "markdown",
   "metadata": {},
   "source": [
    "<a id='intro'></a>\n",
    "## Introduction\n",
    "\n",
    "> **Hint**: In this Project we'll be analyzing data associated with European Soccer Database.\n",
    "It contains data for soccer matches, players, and teams from several European countries from 2008 to 2016.\n",
    "\n",
    "> **Trends**: We'll be interested in the following: \n",
    " <li>What is the effect of playing home over away games?\n",
    " <li>What is the most leagues scoring goals over the time period?\n",
    " <li>What are the top ten players with the best ranking over the time period?\n",
    " <li>What are the most common attributes of the players with the best ranking over the time period?\n",
    " <li>What are the best teams over the time period?"
   ]
  },
  {
   "cell_type": "code",
   "execution_count": 1,
   "metadata": {},
   "outputs": [],
   "source": [
    "# Importing all of the packages that we plan to use\n",
    "import pandas as pd\n",
    "import numpy as np\n",
    "import matplotlib.pyplot as plt\n",
    "import seaborn as sns\n",
    "%matplotlib inline\n",
    "sns.set_style('darkgrid')"
   ]
  },
  {
   "cell_type": "markdown",
   "metadata": {},
   "source": [
    "<a id='wrangling'></a>\n",
    "## Data Wrangling\n",
    "\n",
    "#### It's the time for Gathering, Assessing, and Cleaning the data before we get our Findings"
   ]
  },
  {
   "cell_type": "markdown",
   "metadata": {},
   "source": [
    "## Loading the Data"
   ]
  },
  {
   "cell_type": "code",
   "execution_count": 2,
   "metadata": {},
   "outputs": [],
   "source": [
    "## Using Pandas to load all required data\n",
    "\n",
    "#Loading Country file\n",
    "df_country = pd.read_csv('Country.csv')\n",
    "\n",
    "#Loading League file\n",
    "df_league = pd.read_csv('League.csv')\n",
    "\n",
    "#Loading Match file\n",
    "df_match = pd.read_csv('Match.csv')\n",
    "\n",
    "#Loading Player file\n",
    "df_player = pd.read_csv('Player.csv')\n",
    "\n",
    "#Loading Player's Attributes file\n",
    "df_player_attr = pd.read_csv('Player_Attributes.csv')\n",
    "\n",
    "#Loading Team file\n",
    "df_team = pd.read_csv('Team.csv')\n",
    "\n",
    "#Loading Team's Attributes file\n",
    "df_team_attr = pd.read_csv('Team_Attributes.csv')"
   ]
  },
  {
   "cell_type": "markdown",
   "metadata": {},
   "source": [
    "### Data Assessing\n",
    "####  It's time to check the data before applying cleaning \n"
   ]
  },
  {
   "cell_type": "code",
   "execution_count": 3,
   "metadata": {},
   "outputs": [
    {
     "data": {
      "text/html": [
       "<div>\n",
       "<style scoped>\n",
       "    .dataframe tbody tr th:only-of-type {\n",
       "        vertical-align: middle;\n",
       "    }\n",
       "\n",
       "    .dataframe tbody tr th {\n",
       "        vertical-align: top;\n",
       "    }\n",
       "\n",
       "    .dataframe thead th {\n",
       "        text-align: right;\n",
       "    }\n",
       "</style>\n",
       "<table border=\"1\" class=\"dataframe\">\n",
       "  <thead>\n",
       "    <tr style=\"text-align: right;\">\n",
       "      <th></th>\n",
       "      <th>id</th>\n",
       "      <th>name</th>\n",
       "    </tr>\n",
       "  </thead>\n",
       "  <tbody>\n",
       "    <tr>\n",
       "      <th>0</th>\n",
       "      <td>1</td>\n",
       "      <td>Belgium</td>\n",
       "    </tr>\n",
       "  </tbody>\n",
       "</table>\n",
       "</div>"
      ],
      "text/plain": [
       "   id     name\n",
       "0   1  Belgium"
      ]
     },
     "execution_count": 3,
     "metadata": {},
     "output_type": "execute_result"
    }
   ],
   "source": [
    "# Assessing the Country file\n",
    "df_country.head(1)"
   ]
  },
  {
   "cell_type": "code",
   "execution_count": 4,
   "metadata": {},
   "outputs": [
    {
     "data": {
      "text/plain": [
       "(11, 2)"
      ]
     },
     "execution_count": 4,
     "metadata": {},
     "output_type": "execute_result"
    }
   ],
   "source": [
    "# Inspecting the Shape of Country file\n",
    "df_country.shape"
   ]
  },
  {
   "cell_type": "code",
   "execution_count": 7,
   "metadata": {},
   "outputs": [
    {
     "data": {
      "text/html": [
       "<div>\n",
       "<style scoped>\n",
       "    .dataframe tbody tr th:only-of-type {\n",
       "        vertical-align: middle;\n",
       "    }\n",
       "\n",
       "    .dataframe tbody tr th {\n",
       "        vertical-align: top;\n",
       "    }\n",
       "\n",
       "    .dataframe thead th {\n",
       "        text-align: right;\n",
       "    }\n",
       "</style>\n",
       "<table border=\"1\" class=\"dataframe\">\n",
       "  <thead>\n",
       "    <tr style=\"text-align: right;\">\n",
       "      <th></th>\n",
       "      <th>id</th>\n",
       "      <th>country_id</th>\n",
       "      <th>name</th>\n",
       "    </tr>\n",
       "  </thead>\n",
       "  <tbody>\n",
       "    <tr>\n",
       "      <th>0</th>\n",
       "      <td>1</td>\n",
       "      <td>1</td>\n",
       "      <td>Belgium Jupiler League</td>\n",
       "    </tr>\n",
       "  </tbody>\n",
       "</table>\n",
       "</div>"
      ],
      "text/plain": [
       "   id  country_id                    name\n",
       "0   1           1  Belgium Jupiler League"
      ]
     },
     "execution_count": 7,
     "metadata": {},
     "output_type": "execute_result"
    }
   ],
   "source": [
    "# Assessing the League file\n",
    "df_league.head(1)"
   ]
  },
  {
   "cell_type": "code",
   "execution_count": 8,
   "metadata": {},
   "outputs": [
    {
     "data": {
      "text/plain": [
       "(11, 3)"
      ]
     },
     "execution_count": 8,
     "metadata": {},
     "output_type": "execute_result"
    }
   ],
   "source": [
    "# Inspecting the Shape of League file\n",
    "df_league.shape"
   ]
  },
  {
   "cell_type": "code",
   "execution_count": 9,
   "metadata": {},
   "outputs": [
    {
     "data": {
      "text/html": [
       "<div>\n",
       "<style scoped>\n",
       "    .dataframe tbody tr th:only-of-type {\n",
       "        vertical-align: middle;\n",
       "    }\n",
       "\n",
       "    .dataframe tbody tr th {\n",
       "        vertical-align: top;\n",
       "    }\n",
       "\n",
       "    .dataframe thead th {\n",
       "        text-align: right;\n",
       "    }\n",
       "</style>\n",
       "<table border=\"1\" class=\"dataframe\">\n",
       "  <thead>\n",
       "    <tr style=\"text-align: right;\">\n",
       "      <th></th>\n",
       "      <th>id</th>\n",
       "      <th>country_id</th>\n",
       "      <th>league_id</th>\n",
       "      <th>season</th>\n",
       "      <th>stage</th>\n",
       "      <th>date</th>\n",
       "      <th>match_api_id</th>\n",
       "      <th>home_team_api_id</th>\n",
       "      <th>away_team_api_id</th>\n",
       "      <th>home_team_goal</th>\n",
       "      <th>...</th>\n",
       "      <th>SJA</th>\n",
       "      <th>VCH</th>\n",
       "      <th>VCD</th>\n",
       "      <th>VCA</th>\n",
       "      <th>GBH</th>\n",
       "      <th>GBD</th>\n",
       "      <th>GBA</th>\n",
       "      <th>BSH</th>\n",
       "      <th>BSD</th>\n",
       "      <th>BSA</th>\n",
       "    </tr>\n",
       "  </thead>\n",
       "  <tbody>\n",
       "    <tr>\n",
       "      <th>0</th>\n",
       "      <td>1</td>\n",
       "      <td>1</td>\n",
       "      <td>1</td>\n",
       "      <td>2008/2009</td>\n",
       "      <td>1</td>\n",
       "      <td>2008-08-17 00:00:00</td>\n",
       "      <td>492473</td>\n",
       "      <td>9987</td>\n",
       "      <td>9993</td>\n",
       "      <td>1</td>\n",
       "      <td>...</td>\n",
       "      <td>4.0</td>\n",
       "      <td>1.65</td>\n",
       "      <td>3.4</td>\n",
       "      <td>4.5</td>\n",
       "      <td>1.78</td>\n",
       "      <td>3.25</td>\n",
       "      <td>4.0</td>\n",
       "      <td>1.73</td>\n",
       "      <td>3.4</td>\n",
       "      <td>4.2</td>\n",
       "    </tr>\n",
       "  </tbody>\n",
       "</table>\n",
       "<p>1 rows × 115 columns</p>\n",
       "</div>"
      ],
      "text/plain": [
       "   id  country_id  league_id     season  stage                 date  \\\n",
       "0   1           1          1  2008/2009      1  2008-08-17 00:00:00   \n",
       "\n",
       "   match_api_id  home_team_api_id  away_team_api_id  home_team_goal  ...  SJA  \\\n",
       "0        492473              9987              9993               1  ...  4.0   \n",
       "\n",
       "    VCH  VCD  VCA   GBH   GBD  GBA   BSH  BSD  BSA  \n",
       "0  1.65  3.4  4.5  1.78  3.25  4.0  1.73  3.4  4.2  \n",
       "\n",
       "[1 rows x 115 columns]"
      ]
     },
     "execution_count": 9,
     "metadata": {},
     "output_type": "execute_result"
    }
   ],
   "source": [
    "# Assessing the Match file\n",
    "df_match.head(1)"
   ]
  },
  {
   "cell_type": "code",
   "execution_count": 10,
   "metadata": {},
   "outputs": [
    {
     "data": {
      "text/plain": [
       "(25979, 115)"
      ]
     },
     "execution_count": 10,
     "metadata": {},
     "output_type": "execute_result"
    }
   ],
   "source": [
    "# Inspecting the Shape of Match file\n",
    "df_match.shape"
   ]
  },
  {
   "cell_type": "code",
   "execution_count": 11,
   "metadata": {},
   "outputs": [
    {
     "data": {
      "text/plain": [
       "id              int64\n",
       "country_id      int64\n",
       "league_id       int64\n",
       "season         object\n",
       "stage           int64\n",
       "               ...   \n",
       "GBD           float64\n",
       "GBA           float64\n",
       "BSH           float64\n",
       "BSD           float64\n",
       "BSA           float64\n",
       "Length: 115, dtype: object"
      ]
     },
     "execution_count": 11,
     "metadata": {},
     "output_type": "execute_result"
    }
   ],
   "source": [
    "# Inspecting the data types of Match file\n",
    "df_match.dtypes"
   ]
  },
  {
   "cell_type": "code",
   "execution_count": 12,
   "metadata": {},
   "outputs": [
    {
     "data": {
      "text/html": [
       "<div>\n",
       "<style scoped>\n",
       "    .dataframe tbody tr th:only-of-type {\n",
       "        vertical-align: middle;\n",
       "    }\n",
       "\n",
       "    .dataframe tbody tr th {\n",
       "        vertical-align: top;\n",
       "    }\n",
       "\n",
       "    .dataframe thead th {\n",
       "        text-align: right;\n",
       "    }\n",
       "</style>\n",
       "<table border=\"1\" class=\"dataframe\">\n",
       "  <thead>\n",
       "    <tr style=\"text-align: right;\">\n",
       "      <th></th>\n",
       "      <th>id</th>\n",
       "      <th>player_api_id</th>\n",
       "      <th>player_name</th>\n",
       "      <th>player_fifa_api_id</th>\n",
       "      <th>birthday</th>\n",
       "      <th>height</th>\n",
       "      <th>weight</th>\n",
       "    </tr>\n",
       "  </thead>\n",
       "  <tbody>\n",
       "    <tr>\n",
       "      <th>0</th>\n",
       "      <td>1</td>\n",
       "      <td>505942</td>\n",
       "      <td>Aaron Appindangoye</td>\n",
       "      <td>218353</td>\n",
       "      <td>1992-02-29 00:00:00</td>\n",
       "      <td>182.88</td>\n",
       "      <td>187</td>\n",
       "    </tr>\n",
       "  </tbody>\n",
       "</table>\n",
       "</div>"
      ],
      "text/plain": [
       "   id  player_api_id         player_name  player_fifa_api_id  \\\n",
       "0   1         505942  Aaron Appindangoye              218353   \n",
       "\n",
       "              birthday  height  weight  \n",
       "0  1992-02-29 00:00:00  182.88     187  "
      ]
     },
     "execution_count": 12,
     "metadata": {},
     "output_type": "execute_result"
    }
   ],
   "source": [
    "# Assessing the Player file\n",
    "df_player.head(1)"
   ]
  },
  {
   "cell_type": "code",
   "execution_count": 13,
   "metadata": {},
   "outputs": [
    {
     "data": {
      "text/html": [
       "<div>\n",
       "<style scoped>\n",
       "    .dataframe tbody tr th:only-of-type {\n",
       "        vertical-align: middle;\n",
       "    }\n",
       "\n",
       "    .dataframe tbody tr th {\n",
       "        vertical-align: top;\n",
       "    }\n",
       "\n",
       "    .dataframe thead th {\n",
       "        text-align: right;\n",
       "    }\n",
       "</style>\n",
       "<table border=\"1\" class=\"dataframe\">\n",
       "  <thead>\n",
       "    <tr style=\"text-align: right;\">\n",
       "      <th></th>\n",
       "      <th>id</th>\n",
       "      <th>player_fifa_api_id</th>\n",
       "      <th>player_api_id</th>\n",
       "      <th>date</th>\n",
       "      <th>overall_rating</th>\n",
       "      <th>potential</th>\n",
       "      <th>preferred_foot</th>\n",
       "      <th>attacking_work_rate</th>\n",
       "      <th>defensive_work_rate</th>\n",
       "      <th>crossing</th>\n",
       "      <th>...</th>\n",
       "      <th>vision</th>\n",
       "      <th>penalties</th>\n",
       "      <th>marking</th>\n",
       "      <th>standing_tackle</th>\n",
       "      <th>sliding_tackle</th>\n",
       "      <th>gk_diving</th>\n",
       "      <th>gk_handling</th>\n",
       "      <th>gk_kicking</th>\n",
       "      <th>gk_positioning</th>\n",
       "      <th>gk_reflexes</th>\n",
       "    </tr>\n",
       "  </thead>\n",
       "  <tbody>\n",
       "    <tr>\n",
       "      <th>0</th>\n",
       "      <td>1</td>\n",
       "      <td>218353</td>\n",
       "      <td>505942</td>\n",
       "      <td>2016-02-18 00:00:00</td>\n",
       "      <td>67.0</td>\n",
       "      <td>71.0</td>\n",
       "      <td>right</td>\n",
       "      <td>medium</td>\n",
       "      <td>medium</td>\n",
       "      <td>49.0</td>\n",
       "      <td>...</td>\n",
       "      <td>54.0</td>\n",
       "      <td>48.0</td>\n",
       "      <td>65.0</td>\n",
       "      <td>69.0</td>\n",
       "      <td>69.0</td>\n",
       "      <td>6.0</td>\n",
       "      <td>11.0</td>\n",
       "      <td>10.0</td>\n",
       "      <td>8.0</td>\n",
       "      <td>8.0</td>\n",
       "    </tr>\n",
       "  </tbody>\n",
       "</table>\n",
       "<p>1 rows × 42 columns</p>\n",
       "</div>"
      ],
      "text/plain": [
       "   id  player_fifa_api_id  player_api_id                 date  overall_rating  \\\n",
       "0   1              218353         505942  2016-02-18 00:00:00            67.0   \n",
       "\n",
       "   potential preferred_foot attacking_work_rate defensive_work_rate  crossing  \\\n",
       "0       71.0          right              medium              medium      49.0   \n",
       "\n",
       "   ...  vision  penalties  marking  standing_tackle  sliding_tackle  \\\n",
       "0  ...    54.0       48.0     65.0             69.0            69.0   \n",
       "\n",
       "   gk_diving  gk_handling  gk_kicking  gk_positioning  gk_reflexes  \n",
       "0        6.0         11.0        10.0             8.0          8.0  \n",
       "\n",
       "[1 rows x 42 columns]"
      ]
     },
     "execution_count": 13,
     "metadata": {},
     "output_type": "execute_result"
    }
   ],
   "source": [
    "# Assessing the Player's Attribute file\n",
    "df_player_attr.head(1)"
   ]
  },
  {
   "cell_type": "code",
   "execution_count": 14,
   "metadata": {},
   "outputs": [
    {
     "data": {
      "text/plain": [
       "(183978, 42)"
      ]
     },
     "execution_count": 14,
     "metadata": {},
     "output_type": "execute_result"
    }
   ],
   "source": [
    "# Inspecting the Shape of Player's Attribute file\n",
    "df_player_attr.shape"
   ]
  },
  {
   "cell_type": "code",
   "execution_count": 15,
   "metadata": {
    "scrolled": true
   },
   "outputs": [
    {
     "data": {
      "text/plain": [
       "id                       int64\n",
       "player_fifa_api_id       int64\n",
       "player_api_id            int64\n",
       "date                    object\n",
       "overall_rating         float64\n",
       "potential              float64\n",
       "preferred_foot          object\n",
       "attacking_work_rate     object\n",
       "defensive_work_rate     object\n",
       "crossing               float64\n",
       "finishing              float64\n",
       "heading_accuracy       float64\n",
       "short_passing          float64\n",
       "volleys                float64\n",
       "dribbling              float64\n",
       "curve                  float64\n",
       "free_kick_accuracy     float64\n",
       "long_passing           float64\n",
       "ball_control           float64\n",
       "acceleration           float64\n",
       "sprint_speed           float64\n",
       "agility                float64\n",
       "reactions              float64\n",
       "balance                float64\n",
       "shot_power             float64\n",
       "jumping                float64\n",
       "stamina                float64\n",
       "strength               float64\n",
       "long_shots             float64\n",
       "aggression             float64\n",
       "interceptions          float64\n",
       "positioning            float64\n",
       "vision                 float64\n",
       "penalties              float64\n",
       "marking                float64\n",
       "standing_tackle        float64\n",
       "sliding_tackle         float64\n",
       "gk_diving              float64\n",
       "gk_handling            float64\n",
       "gk_kicking             float64\n",
       "gk_positioning         float64\n",
       "gk_reflexes            float64\n",
       "dtype: object"
      ]
     },
     "execution_count": 15,
     "metadata": {},
     "output_type": "execute_result"
    }
   ],
   "source": [
    "# Inspecting the data types of Player's Attribute file\n",
    "df_player_attr.dtypes"
   ]
  },
  {
   "cell_type": "code",
   "execution_count": 16,
   "metadata": {},
   "outputs": [
    {
     "data": {
      "text/html": [
       "<div>\n",
       "<style scoped>\n",
       "    .dataframe tbody tr th:only-of-type {\n",
       "        vertical-align: middle;\n",
       "    }\n",
       "\n",
       "    .dataframe tbody tr th {\n",
       "        vertical-align: top;\n",
       "    }\n",
       "\n",
       "    .dataframe thead th {\n",
       "        text-align: right;\n",
       "    }\n",
       "</style>\n",
       "<table border=\"1\" class=\"dataframe\">\n",
       "  <thead>\n",
       "    <tr style=\"text-align: right;\">\n",
       "      <th></th>\n",
       "      <th>id</th>\n",
       "      <th>team_api_id</th>\n",
       "      <th>team_fifa_api_id</th>\n",
       "      <th>team_long_name</th>\n",
       "      <th>team_short_name</th>\n",
       "    </tr>\n",
       "  </thead>\n",
       "  <tbody>\n",
       "    <tr>\n",
       "      <th>0</th>\n",
       "      <td>1</td>\n",
       "      <td>9987</td>\n",
       "      <td>673.0</td>\n",
       "      <td>KRC Genk</td>\n",
       "      <td>GEN</td>\n",
       "    </tr>\n",
       "  </tbody>\n",
       "</table>\n",
       "</div>"
      ],
      "text/plain": [
       "   id  team_api_id  team_fifa_api_id team_long_name team_short_name\n",
       "0   1         9987             673.0       KRC Genk             GEN"
      ]
     },
     "execution_count": 16,
     "metadata": {},
     "output_type": "execute_result"
    }
   ],
   "source": [
    "# Assessing the Team file\n",
    "df_team.head(1)"
   ]
  },
  {
   "cell_type": "code",
   "execution_count": 17,
   "metadata": {},
   "outputs": [
    {
     "data": {
      "text/html": [
       "<div>\n",
       "<style scoped>\n",
       "    .dataframe tbody tr th:only-of-type {\n",
       "        vertical-align: middle;\n",
       "    }\n",
       "\n",
       "    .dataframe tbody tr th {\n",
       "        vertical-align: top;\n",
       "    }\n",
       "\n",
       "    .dataframe thead th {\n",
       "        text-align: right;\n",
       "    }\n",
       "</style>\n",
       "<table border=\"1\" class=\"dataframe\">\n",
       "  <thead>\n",
       "    <tr style=\"text-align: right;\">\n",
       "      <th></th>\n",
       "      <th>id</th>\n",
       "      <th>team_fifa_api_id</th>\n",
       "      <th>team_api_id</th>\n",
       "      <th>date</th>\n",
       "      <th>buildUpPlaySpeed</th>\n",
       "      <th>buildUpPlaySpeedClass</th>\n",
       "      <th>buildUpPlayDribbling</th>\n",
       "      <th>buildUpPlayDribblingClass</th>\n",
       "      <th>buildUpPlayPassing</th>\n",
       "      <th>buildUpPlayPassingClass</th>\n",
       "      <th>...</th>\n",
       "      <th>chanceCreationShooting</th>\n",
       "      <th>chanceCreationShootingClass</th>\n",
       "      <th>chanceCreationPositioningClass</th>\n",
       "      <th>defencePressure</th>\n",
       "      <th>defencePressureClass</th>\n",
       "      <th>defenceAggression</th>\n",
       "      <th>defenceAggressionClass</th>\n",
       "      <th>defenceTeamWidth</th>\n",
       "      <th>defenceTeamWidthClass</th>\n",
       "      <th>defenceDefenderLineClass</th>\n",
       "    </tr>\n",
       "  </thead>\n",
       "  <tbody>\n",
       "    <tr>\n",
       "      <th>0</th>\n",
       "      <td>1</td>\n",
       "      <td>434</td>\n",
       "      <td>9930</td>\n",
       "      <td>2010-02-22 00:00:00</td>\n",
       "      <td>60</td>\n",
       "      <td>Balanced</td>\n",
       "      <td>NaN</td>\n",
       "      <td>Little</td>\n",
       "      <td>50</td>\n",
       "      <td>Mixed</td>\n",
       "      <td>...</td>\n",
       "      <td>55</td>\n",
       "      <td>Normal</td>\n",
       "      <td>Organised</td>\n",
       "      <td>50</td>\n",
       "      <td>Medium</td>\n",
       "      <td>55</td>\n",
       "      <td>Press</td>\n",
       "      <td>45</td>\n",
       "      <td>Normal</td>\n",
       "      <td>Cover</td>\n",
       "    </tr>\n",
       "  </tbody>\n",
       "</table>\n",
       "<p>1 rows × 25 columns</p>\n",
       "</div>"
      ],
      "text/plain": [
       "   id  team_fifa_api_id  team_api_id                 date  buildUpPlaySpeed  \\\n",
       "0   1               434         9930  2010-02-22 00:00:00                60   \n",
       "\n",
       "  buildUpPlaySpeedClass  buildUpPlayDribbling buildUpPlayDribblingClass  \\\n",
       "0              Balanced                   NaN                    Little   \n",
       "\n",
       "   buildUpPlayPassing buildUpPlayPassingClass  ... chanceCreationShooting  \\\n",
       "0                  50                   Mixed  ...                     55   \n",
       "\n",
       "   chanceCreationShootingClass chanceCreationPositioningClass  \\\n",
       "0                       Normal                      Organised   \n",
       "\n",
       "   defencePressure defencePressureClass  defenceAggression  \\\n",
       "0               50               Medium                 55   \n",
       "\n",
       "  defenceAggressionClass defenceTeamWidth  defenceTeamWidthClass  \\\n",
       "0                  Press               45                 Normal   \n",
       "\n",
       "  defenceDefenderLineClass  \n",
       "0                    Cover  \n",
       "\n",
       "[1 rows x 25 columns]"
      ]
     },
     "execution_count": 17,
     "metadata": {},
     "output_type": "execute_result"
    }
   ],
   "source": [
    "# Assessing the Team's Attribute file\n",
    "df_team_attr.head(1)"
   ]
  },
  {
   "cell_type": "code",
   "execution_count": 18,
   "metadata": {},
   "outputs": [
    {
     "data": {
      "text/plain": [
       "(1458, 25)"
      ]
     },
     "execution_count": 18,
     "metadata": {},
     "output_type": "execute_result"
    }
   ],
   "source": [
    "# Inspecting the Shape of Team's Attribute file\n",
    "df_team_attr.shape"
   ]
  },
  {
   "cell_type": "code",
   "execution_count": 19,
   "metadata": {},
   "outputs": [
    {
     "data": {
      "text/plain": [
       "id                                  int64\n",
       "team_fifa_api_id                    int64\n",
       "team_api_id                         int64\n",
       "date                               object\n",
       "buildUpPlaySpeed                    int64\n",
       "buildUpPlaySpeedClass              object\n",
       "buildUpPlayDribbling              float64\n",
       "buildUpPlayDribblingClass          object\n",
       "buildUpPlayPassing                  int64\n",
       "buildUpPlayPassingClass            object\n",
       "buildUpPlayPositioningClass        object\n",
       "chanceCreationPassing               int64\n",
       "chanceCreationPassingClass         object\n",
       "chanceCreationCrossing              int64\n",
       "chanceCreationCrossingClass        object\n",
       "chanceCreationShooting              int64\n",
       "chanceCreationShootingClass        object\n",
       "chanceCreationPositioningClass     object\n",
       "defencePressure                     int64\n",
       "defencePressureClass               object\n",
       "defenceAggression                   int64\n",
       "defenceAggressionClass             object\n",
       "defenceTeamWidth                    int64\n",
       "defenceTeamWidthClass              object\n",
       "defenceDefenderLineClass           object\n",
       "dtype: object"
      ]
     },
     "execution_count": 19,
     "metadata": {},
     "output_type": "execute_result"
    }
   ],
   "source": [
    "# Inspecting the data types of Team's Attribute file\n",
    "df_team_attr.dtypes"
   ]
  },
  {
   "cell_type": "markdown",
   "metadata": {},
   "source": [
    "### Data Cleaning\n",
    "#### After Gathering and Assessing the  data it's time to treat and clean the data to get into our findings"
   ]
  },
  {
   "cell_type": "markdown",
   "metadata": {},
   "source": [
    "<li> 1-Trying to minimize the data files by merging the common data files\n",
    "<li> 2-Renaming when necessary\n",
    "<li> 3-Dropping the unnecessary columns\n",
    "<li> 4-Dealing with the missing items\n",
    "<li> 5-Merging columns when necessary\n",
    "    "
   ]
  },
  {
   "cell_type": "markdown",
   "metadata": {},
   "source": [
    "### Trying to minimize the data files by merging the common data files"
   ]
  },
  {
   "cell_type": "code",
   "execution_count": 20,
   "metadata": {},
   "outputs": [
    {
     "data": {
      "text/html": [
       "<div>\n",
       "<style scoped>\n",
       "    .dataframe tbody tr th:only-of-type {\n",
       "        vertical-align: middle;\n",
       "    }\n",
       "\n",
       "    .dataframe tbody tr th {\n",
       "        vertical-align: top;\n",
       "    }\n",
       "\n",
       "    .dataframe thead th {\n",
       "        text-align: right;\n",
       "    }\n",
       "</style>\n",
       "<table border=\"1\" class=\"dataframe\">\n",
       "  <thead>\n",
       "    <tr style=\"text-align: right;\">\n",
       "      <th></th>\n",
       "      <th>id_x</th>\n",
       "      <th>team_api_id</th>\n",
       "      <th>team_fifa_api_id_x</th>\n",
       "      <th>team_long_name</th>\n",
       "      <th>team_short_name</th>\n",
       "      <th>id_y</th>\n",
       "      <th>team_fifa_api_id_y</th>\n",
       "      <th>date</th>\n",
       "      <th>buildUpPlaySpeed</th>\n",
       "      <th>buildUpPlaySpeedClass</th>\n",
       "      <th>...</th>\n",
       "      <th>chanceCreationShooting</th>\n",
       "      <th>chanceCreationShootingClass</th>\n",
       "      <th>chanceCreationPositioningClass</th>\n",
       "      <th>defencePressure</th>\n",
       "      <th>defencePressureClass</th>\n",
       "      <th>defenceAggression</th>\n",
       "      <th>defenceAggressionClass</th>\n",
       "      <th>defenceTeamWidth</th>\n",
       "      <th>defenceTeamWidthClass</th>\n",
       "      <th>defenceDefenderLineClass</th>\n",
       "    </tr>\n",
       "  </thead>\n",
       "  <tbody>\n",
       "    <tr>\n",
       "      <th>0</th>\n",
       "      <td>1</td>\n",
       "      <td>9987</td>\n",
       "      <td>673.0</td>\n",
       "      <td>KRC Genk</td>\n",
       "      <td>GEN</td>\n",
       "      <td>485.0</td>\n",
       "      <td>673.0</td>\n",
       "      <td>2010-02-22 00:00:00</td>\n",
       "      <td>45.0</td>\n",
       "      <td>Balanced</td>\n",
       "      <td>...</td>\n",
       "      <td>60.0</td>\n",
       "      <td>Normal</td>\n",
       "      <td>Organised</td>\n",
       "      <td>70.0</td>\n",
       "      <td>High</td>\n",
       "      <td>65.0</td>\n",
       "      <td>Press</td>\n",
       "      <td>70.0</td>\n",
       "      <td>Wide</td>\n",
       "      <td>Cover</td>\n",
       "    </tr>\n",
       "  </tbody>\n",
       "</table>\n",
       "<p>1 rows × 29 columns</p>\n",
       "</div>"
      ],
      "text/plain": [
       "   id_x  team_api_id  team_fifa_api_id_x team_long_name team_short_name  \\\n",
       "0     1         9987               673.0       KRC Genk             GEN   \n",
       "\n",
       "    id_y  team_fifa_api_id_y                 date  buildUpPlaySpeed  \\\n",
       "0  485.0               673.0  2010-02-22 00:00:00              45.0   \n",
       "\n",
       "  buildUpPlaySpeedClass  ...  chanceCreationShooting  \\\n",
       "0              Balanced  ...                    60.0   \n",
       "\n",
       "  chanceCreationShootingClass  chanceCreationPositioningClass defencePressure  \\\n",
       "0                      Normal                       Organised            70.0   \n",
       "\n",
       "  defencePressureClass  defenceAggression defenceAggressionClass  \\\n",
       "0                 High               65.0                  Press   \n",
       "\n",
       "   defenceTeamWidth defenceTeamWidthClass  defenceDefenderLineClass  \n",
       "0              70.0                  Wide                     Cover  \n",
       "\n",
       "[1 rows x 29 columns]"
      ]
     },
     "execution_count": 20,
     "metadata": {},
     "output_type": "execute_result"
    }
   ],
   "source": [
    "# We notice we have common features in the Team and Team's Attributes data sets, let's merge those into one data set\n",
    "df_team_edited = df_team.merge(df_team_attr, left_on=['team_api_id'], right_on=['team_api_id'], how= 'outer')\n",
    "df_team_edited.head(1)"
   ]
  },
  {
   "cell_type": "code",
   "execution_count": 21,
   "metadata": {},
   "outputs": [],
   "source": [
    "# Saving the Team edited file\n",
    "df_team_edited.to_csv('team_edited.csv',index= False)"
   ]
  },
  {
   "cell_type": "code",
   "execution_count": 22,
   "metadata": {},
   "outputs": [
    {
     "data": {
      "text/html": [
       "<div>\n",
       "<style scoped>\n",
       "    .dataframe tbody tr th:only-of-type {\n",
       "        vertical-align: middle;\n",
       "    }\n",
       "\n",
       "    .dataframe tbody tr th {\n",
       "        vertical-align: top;\n",
       "    }\n",
       "\n",
       "    .dataframe thead th {\n",
       "        text-align: right;\n",
       "    }\n",
       "</style>\n",
       "<table border=\"1\" class=\"dataframe\">\n",
       "  <thead>\n",
       "    <tr style=\"text-align: right;\">\n",
       "      <th></th>\n",
       "      <th>id_x</th>\n",
       "      <th>player_api_id</th>\n",
       "      <th>player_name</th>\n",
       "      <th>player_fifa_api_id_x</th>\n",
       "      <th>birthday</th>\n",
       "      <th>height</th>\n",
       "      <th>weight</th>\n",
       "      <th>id_y</th>\n",
       "      <th>player_fifa_api_id_y</th>\n",
       "      <th>date</th>\n",
       "      <th>...</th>\n",
       "      <th>vision</th>\n",
       "      <th>penalties</th>\n",
       "      <th>marking</th>\n",
       "      <th>standing_tackle</th>\n",
       "      <th>sliding_tackle</th>\n",
       "      <th>gk_diving</th>\n",
       "      <th>gk_handling</th>\n",
       "      <th>gk_kicking</th>\n",
       "      <th>gk_positioning</th>\n",
       "      <th>gk_reflexes</th>\n",
       "    </tr>\n",
       "  </thead>\n",
       "  <tbody>\n",
       "    <tr>\n",
       "      <th>0</th>\n",
       "      <td>1</td>\n",
       "      <td>505942</td>\n",
       "      <td>Aaron Appindangoye</td>\n",
       "      <td>218353</td>\n",
       "      <td>1992-02-29 00:00:00</td>\n",
       "      <td>182.88</td>\n",
       "      <td>187</td>\n",
       "      <td>1</td>\n",
       "      <td>218353</td>\n",
       "      <td>2016-02-18 00:00:00</td>\n",
       "      <td>...</td>\n",
       "      <td>54.0</td>\n",
       "      <td>48.0</td>\n",
       "      <td>65.0</td>\n",
       "      <td>69.0</td>\n",
       "      <td>69.0</td>\n",
       "      <td>6.0</td>\n",
       "      <td>11.0</td>\n",
       "      <td>10.0</td>\n",
       "      <td>8.0</td>\n",
       "      <td>8.0</td>\n",
       "    </tr>\n",
       "  </tbody>\n",
       "</table>\n",
       "<p>1 rows × 48 columns</p>\n",
       "</div>"
      ],
      "text/plain": [
       "   id_x  player_api_id         player_name  player_fifa_api_id_x  \\\n",
       "0     1         505942  Aaron Appindangoye                218353   \n",
       "\n",
       "              birthday  height  weight  id_y  player_fifa_api_id_y  \\\n",
       "0  1992-02-29 00:00:00  182.88     187     1                218353   \n",
       "\n",
       "                  date  ...  vision  penalties marking standing_tackle  \\\n",
       "0  2016-02-18 00:00:00  ...    54.0       48.0    65.0            69.0   \n",
       "\n",
       "  sliding_tackle  gk_diving  gk_handling  gk_kicking  gk_positioning  \\\n",
       "0           69.0        6.0         11.0        10.0             8.0   \n",
       "\n",
       "   gk_reflexes  \n",
       "0          8.0  \n",
       "\n",
       "[1 rows x 48 columns]"
      ]
     },
     "execution_count": 22,
     "metadata": {},
     "output_type": "execute_result"
    }
   ],
   "source": [
    "# We notice we have common features in the Player and Player's Attributes data sets, let's merge those into one data set\n",
    "df_player_edited = df_player.merge(df_player_attr, left_on=['player_api_id'], right_on=['player_api_id'], how= 'outer')\n",
    "df_player_edited.head(1)"
   ]
  },
  {
   "cell_type": "code",
   "execution_count": 23,
   "metadata": {},
   "outputs": [],
   "source": [
    "# Saving the Player edited file\n",
    "df_player_edited.to_csv('player_edited.csv',index= False)"
   ]
  },
  {
   "cell_type": "code",
   "execution_count": 24,
   "metadata": {},
   "outputs": [
    {
     "data": {
      "text/html": [
       "<div>\n",
       "<style scoped>\n",
       "    .dataframe tbody tr th:only-of-type {\n",
       "        vertical-align: middle;\n",
       "    }\n",
       "\n",
       "    .dataframe tbody tr th {\n",
       "        vertical-align: top;\n",
       "    }\n",
       "\n",
       "    .dataframe thead th {\n",
       "        text-align: right;\n",
       "    }\n",
       "</style>\n",
       "<table border=\"1\" class=\"dataframe\">\n",
       "  <thead>\n",
       "    <tr style=\"text-align: right;\">\n",
       "      <th></th>\n",
       "      <th>id</th>\n",
       "      <th>country</th>\n",
       "    </tr>\n",
       "  </thead>\n",
       "  <tbody>\n",
       "    <tr>\n",
       "      <th>0</th>\n",
       "      <td>1</td>\n",
       "      <td>Belgium</td>\n",
       "    </tr>\n",
       "  </tbody>\n",
       "</table>\n",
       "</div>"
      ],
      "text/plain": [
       "   id  country\n",
       "0   1  Belgium"
      ]
     },
     "execution_count": 24,
     "metadata": {},
     "output_type": "execute_result"
    }
   ],
   "source": [
    "# We notice we have common features in the Country, League and Match data sets, let's merge those into one data set\n",
    "# Renaming the country's label in the country file -from (name label) to (country label)- to avoid repeating the names of the columns in the data frame\n",
    "df_country.rename(columns={'name' : 'country'}, inplace= True)\n",
    "df_country.head(1)"
   ]
  },
  {
   "cell_type": "code",
   "execution_count": 25,
   "metadata": {},
   "outputs": [
    {
     "data": {
      "text/html": [
       "<div>\n",
       "<style scoped>\n",
       "    .dataframe tbody tr th:only-of-type {\n",
       "        vertical-align: middle;\n",
       "    }\n",
       "\n",
       "    .dataframe tbody tr th {\n",
       "        vertical-align: top;\n",
       "    }\n",
       "\n",
       "    .dataframe thead th {\n",
       "        text-align: right;\n",
       "    }\n",
       "</style>\n",
       "<table border=\"1\" class=\"dataframe\">\n",
       "  <thead>\n",
       "    <tr style=\"text-align: right;\">\n",
       "      <th></th>\n",
       "      <th>id</th>\n",
       "      <th>country_id</th>\n",
       "      <th>name</th>\n",
       "      <th>country</th>\n",
       "    </tr>\n",
       "  </thead>\n",
       "  <tbody>\n",
       "    <tr>\n",
       "      <th>0</th>\n",
       "      <td>1</td>\n",
       "      <td>1</td>\n",
       "      <td>Belgium Jupiler League</td>\n",
       "      <td>Belgium</td>\n",
       "    </tr>\n",
       "  </tbody>\n",
       "</table>\n",
       "</div>"
      ],
      "text/plain": [
       "   id  country_id                    name  country\n",
       "0   1           1  Belgium Jupiler League  Belgium"
      ]
     },
     "execution_count": 25,
     "metadata": {},
     "output_type": "execute_result"
    }
   ],
   "source": [
    "# Merging League file with Country file\n",
    "df_league_edited1 = df_league.merge(df_country, left_on='id',  right_on='id', how='outer')\n",
    "df_league_edited1.head(1)"
   ]
  },
  {
   "cell_type": "code",
   "execution_count": 26,
   "metadata": {},
   "outputs": [
    {
     "data": {
      "text/html": [
       "<div>\n",
       "<style scoped>\n",
       "    .dataframe tbody tr th:only-of-type {\n",
       "        vertical-align: middle;\n",
       "    }\n",
       "\n",
       "    .dataframe tbody tr th {\n",
       "        vertical-align: top;\n",
       "    }\n",
       "\n",
       "    .dataframe thead th {\n",
       "        text-align: right;\n",
       "    }\n",
       "</style>\n",
       "<table border=\"1\" class=\"dataframe\">\n",
       "  <thead>\n",
       "    <tr style=\"text-align: right;\">\n",
       "      <th></th>\n",
       "      <th>id_x</th>\n",
       "      <th>country_id</th>\n",
       "      <th>name</th>\n",
       "      <th>country</th>\n",
       "      <th>id_y</th>\n",
       "      <th>league_id</th>\n",
       "      <th>season</th>\n",
       "      <th>stage</th>\n",
       "      <th>date</th>\n",
       "      <th>match_api_id</th>\n",
       "      <th>...</th>\n",
       "      <th>SJA</th>\n",
       "      <th>VCH</th>\n",
       "      <th>VCD</th>\n",
       "      <th>VCA</th>\n",
       "      <th>GBH</th>\n",
       "      <th>GBD</th>\n",
       "      <th>GBA</th>\n",
       "      <th>BSH</th>\n",
       "      <th>BSD</th>\n",
       "      <th>BSA</th>\n",
       "    </tr>\n",
       "  </thead>\n",
       "  <tbody>\n",
       "    <tr>\n",
       "      <th>0</th>\n",
       "      <td>1</td>\n",
       "      <td>1</td>\n",
       "      <td>Belgium Jupiler League</td>\n",
       "      <td>Belgium</td>\n",
       "      <td>1</td>\n",
       "      <td>1</td>\n",
       "      <td>2008/2009</td>\n",
       "      <td>1</td>\n",
       "      <td>2008-08-17 00:00:00</td>\n",
       "      <td>492473</td>\n",
       "      <td>...</td>\n",
       "      <td>4.0</td>\n",
       "      <td>1.65</td>\n",
       "      <td>3.4</td>\n",
       "      <td>4.5</td>\n",
       "      <td>1.78</td>\n",
       "      <td>3.25</td>\n",
       "      <td>4.0</td>\n",
       "      <td>1.73</td>\n",
       "      <td>3.4</td>\n",
       "      <td>4.2</td>\n",
       "    </tr>\n",
       "  </tbody>\n",
       "</table>\n",
       "<p>1 rows × 118 columns</p>\n",
       "</div>"
      ],
      "text/plain": [
       "   id_x  country_id                    name  country  id_y  league_id  \\\n",
       "0     1           1  Belgium Jupiler League  Belgium     1          1   \n",
       "\n",
       "      season  stage                 date  match_api_id  ...  SJA   VCH  VCD  \\\n",
       "0  2008/2009      1  2008-08-17 00:00:00        492473  ...  4.0  1.65  3.4   \n",
       "\n",
       "   VCA   GBH   GBD  GBA   BSH  BSD  BSA  \n",
       "0  4.5  1.78  3.25  4.0  1.73  3.4  4.2  \n",
       "\n",
       "[1 rows x 118 columns]"
      ]
     },
     "execution_count": 26,
     "metadata": {},
     "output_type": "execute_result"
    }
   ],
   "source": [
    "# Merging League file with Match file\n",
    "df_league_edited2 = df_league_edited1.merge(df_match, left_on=['country_id'] ,right_on=['country_id'] ,how= 'outer')\n",
    "df_league_edited2.head(1)"
   ]
  },
  {
   "cell_type": "code",
   "execution_count": 27,
   "metadata": {},
   "outputs": [],
   "source": [
    "# Saving the League edited file\n",
    "df_league_edited2.to_csv('league_edited.csv',index= False)"
   ]
  },
  {
   "cell_type": "markdown",
   "metadata": {},
   "source": [
    "### Dropping the unnecessary columns"
   ]
  },
  {
   "cell_type": "code",
   "execution_count": 28,
   "metadata": {},
   "outputs": [
    {
     "data": {
      "text/html": [
       "<div>\n",
       "<style scoped>\n",
       "    .dataframe tbody tr th:only-of-type {\n",
       "        vertical-align: middle;\n",
       "    }\n",
       "\n",
       "    .dataframe tbody tr th {\n",
       "        vertical-align: top;\n",
       "    }\n",
       "\n",
       "    .dataframe thead th {\n",
       "        text-align: right;\n",
       "    }\n",
       "</style>\n",
       "<table border=\"1\" class=\"dataframe\">\n",
       "  <thead>\n",
       "    <tr style=\"text-align: right;\">\n",
       "      <th></th>\n",
       "      <th>id_x</th>\n",
       "      <th>team_api_id</th>\n",
       "      <th>team_fifa_api_id_x</th>\n",
       "      <th>team_long_name</th>\n",
       "      <th>team_short_name</th>\n",
       "      <th>id_y</th>\n",
       "      <th>team_fifa_api_id_y</th>\n",
       "      <th>date</th>\n",
       "      <th>buildUpPlaySpeed</th>\n",
       "      <th>buildUpPlaySpeedClass</th>\n",
       "      <th>...</th>\n",
       "      <th>chanceCreationShooting</th>\n",
       "      <th>chanceCreationShootingClass</th>\n",
       "      <th>chanceCreationPositioningClass</th>\n",
       "      <th>defencePressure</th>\n",
       "      <th>defencePressureClass</th>\n",
       "      <th>defenceAggression</th>\n",
       "      <th>defenceAggressionClass</th>\n",
       "      <th>defenceTeamWidth</th>\n",
       "      <th>defenceTeamWidthClass</th>\n",
       "      <th>defenceDefenderLineClass</th>\n",
       "    </tr>\n",
       "  </thead>\n",
       "  <tbody>\n",
       "    <tr>\n",
       "      <th>0</th>\n",
       "      <td>1</td>\n",
       "      <td>9987</td>\n",
       "      <td>673.0</td>\n",
       "      <td>KRC Genk</td>\n",
       "      <td>GEN</td>\n",
       "      <td>485.0</td>\n",
       "      <td>673.0</td>\n",
       "      <td>2010-02-22 00:00:00</td>\n",
       "      <td>45.0</td>\n",
       "      <td>Balanced</td>\n",
       "      <td>...</td>\n",
       "      <td>60.0</td>\n",
       "      <td>Normal</td>\n",
       "      <td>Organised</td>\n",
       "      <td>70.0</td>\n",
       "      <td>High</td>\n",
       "      <td>65.0</td>\n",
       "      <td>Press</td>\n",
       "      <td>70.0</td>\n",
       "      <td>Wide</td>\n",
       "      <td>Cover</td>\n",
       "    </tr>\n",
       "  </tbody>\n",
       "</table>\n",
       "<p>1 rows × 29 columns</p>\n",
       "</div>"
      ],
      "text/plain": [
       "   id_x  team_api_id  team_fifa_api_id_x team_long_name team_short_name  \\\n",
       "0     1         9987               673.0       KRC Genk             GEN   \n",
       "\n",
       "    id_y  team_fifa_api_id_y                 date  buildUpPlaySpeed  \\\n",
       "0  485.0               673.0  2010-02-22 00:00:00              45.0   \n",
       "\n",
       "  buildUpPlaySpeedClass  ...  chanceCreationShooting  \\\n",
       "0              Balanced  ...                    60.0   \n",
       "\n",
       "  chanceCreationShootingClass  chanceCreationPositioningClass defencePressure  \\\n",
       "0                      Normal                       Organised            70.0   \n",
       "\n",
       "  defencePressureClass  defenceAggression defenceAggressionClass  \\\n",
       "0                 High               65.0                  Press   \n",
       "\n",
       "   defenceTeamWidth defenceTeamWidthClass  defenceDefenderLineClass  \n",
       "0              70.0                  Wide                     Cover  \n",
       "\n",
       "[1 rows x 29 columns]"
      ]
     },
     "execution_count": 28,
     "metadata": {},
     "output_type": "execute_result"
    }
   ],
   "source": [
    "# Loading Team data to perfom cleaning\n",
    "df_team = pd.read_csv('team_edited.csv')\n",
    "df_team.head(1)"
   ]
  },
  {
   "cell_type": "code",
   "execution_count": 29,
   "metadata": {},
   "outputs": [],
   "source": [
    "# Dropping unnecessary columns of Team Data\n",
    "df_team.drop(df_team.iloc[ :, 7:], axis=1, inplace=True)\n",
    "df_team.drop(['id_x', 'team_fifa_api_id_x', 'team_fifa_api_id_y' ,'id_y'], axis=1, inplace=True)"
   ]
  },
  {
   "cell_type": "code",
   "execution_count": 30,
   "metadata": {},
   "outputs": [
    {
     "data": {
      "text/html": [
       "<div>\n",
       "<style scoped>\n",
       "    .dataframe tbody tr th:only-of-type {\n",
       "        vertical-align: middle;\n",
       "    }\n",
       "\n",
       "    .dataframe tbody tr th {\n",
       "        vertical-align: top;\n",
       "    }\n",
       "\n",
       "    .dataframe thead th {\n",
       "        text-align: right;\n",
       "    }\n",
       "</style>\n",
       "<table border=\"1\" class=\"dataframe\">\n",
       "  <thead>\n",
       "    <tr style=\"text-align: right;\">\n",
       "      <th></th>\n",
       "      <th>team_api_id</th>\n",
       "      <th>team_long_name</th>\n",
       "      <th>team_short_name</th>\n",
       "    </tr>\n",
       "  </thead>\n",
       "  <tbody>\n",
       "    <tr>\n",
       "      <th>0</th>\n",
       "      <td>9987</td>\n",
       "      <td>KRC Genk</td>\n",
       "      <td>GEN</td>\n",
       "    </tr>\n",
       "  </tbody>\n",
       "</table>\n",
       "</div>"
      ],
      "text/plain": [
       "   team_api_id team_long_name team_short_name\n",
       "0         9987       KRC Genk             GEN"
      ]
     },
     "execution_count": 30,
     "metadata": {},
     "output_type": "execute_result"
    }
   ],
   "source": [
    "# Inspecting the Team Data file after Dropping process\n",
    "df_team.head(1)"
   ]
  },
  {
   "cell_type": "markdown",
   "metadata": {},
   "source": [
    "### Dealing with missing values"
   ]
  },
  {
   "cell_type": "code",
   "execution_count": 31,
   "metadata": {
    "scrolled": true
   },
   "outputs": [
    {
     "data": {
      "text/plain": [
       "team_api_id        0\n",
       "team_long_name     0\n",
       "team_short_name    0\n",
       "dtype: int64"
      ]
     },
     "execution_count": 31,
     "metadata": {},
     "output_type": "execute_result"
    }
   ],
   "source": [
    "# Inspecting the missing values in Team Data\n",
    "df_team.isnull().sum()"
   ]
  },
  {
   "cell_type": "code",
   "execution_count": 32,
   "metadata": {},
   "outputs": [
    {
     "data": {
      "text/plain": [
       "team_api_id        0\n",
       "team_long_name     0\n",
       "team_short_name    0\n",
       "dtype: int64"
      ]
     },
     "execution_count": 32,
     "metadata": {},
     "output_type": "execute_result"
    }
   ],
   "source": [
    "# Deleting any missing values in Team Data\n",
    "df_team[df_team.isnull().any(axis=1)]\n",
    "df_team.dropna(axis=0, inplace=True)\n",
    "df_team.isnull().sum()"
   ]
  },
  {
   "cell_type": "code",
   "execution_count": 33,
   "metadata": {},
   "outputs": [],
   "source": [
    "# saving the previous steps \n",
    "df_team.to_csv('team_edited.csv', index = False)"
   ]
  },
  {
   "cell_type": "code",
   "execution_count": 34,
   "metadata": {},
   "outputs": [
    {
     "data": {
      "text/html": [
       "<div>\n",
       "<style scoped>\n",
       "    .dataframe tbody tr th:only-of-type {\n",
       "        vertical-align: middle;\n",
       "    }\n",
       "\n",
       "    .dataframe tbody tr th {\n",
       "        vertical-align: top;\n",
       "    }\n",
       "\n",
       "    .dataframe thead th {\n",
       "        text-align: right;\n",
       "    }\n",
       "</style>\n",
       "<table border=\"1\" class=\"dataframe\">\n",
       "  <thead>\n",
       "    <tr style=\"text-align: right;\">\n",
       "      <th></th>\n",
       "      <th>id_x</th>\n",
       "      <th>player_api_id</th>\n",
       "      <th>player_name</th>\n",
       "      <th>player_fifa_api_id_x</th>\n",
       "      <th>birthday</th>\n",
       "      <th>height</th>\n",
       "      <th>weight</th>\n",
       "      <th>id_y</th>\n",
       "      <th>player_fifa_api_id_y</th>\n",
       "      <th>date</th>\n",
       "      <th>...</th>\n",
       "      <th>vision</th>\n",
       "      <th>penalties</th>\n",
       "      <th>marking</th>\n",
       "      <th>standing_tackle</th>\n",
       "      <th>sliding_tackle</th>\n",
       "      <th>gk_diving</th>\n",
       "      <th>gk_handling</th>\n",
       "      <th>gk_kicking</th>\n",
       "      <th>gk_positioning</th>\n",
       "      <th>gk_reflexes</th>\n",
       "    </tr>\n",
       "  </thead>\n",
       "  <tbody>\n",
       "    <tr>\n",
       "      <th>0</th>\n",
       "      <td>1</td>\n",
       "      <td>505942</td>\n",
       "      <td>Aaron Appindangoye</td>\n",
       "      <td>218353</td>\n",
       "      <td>1992-02-29 00:00:00</td>\n",
       "      <td>182.88</td>\n",
       "      <td>187</td>\n",
       "      <td>1</td>\n",
       "      <td>218353</td>\n",
       "      <td>2016-02-18 00:00:00</td>\n",
       "      <td>...</td>\n",
       "      <td>54.0</td>\n",
       "      <td>48.0</td>\n",
       "      <td>65.0</td>\n",
       "      <td>69.0</td>\n",
       "      <td>69.0</td>\n",
       "      <td>6.0</td>\n",
       "      <td>11.0</td>\n",
       "      <td>10.0</td>\n",
       "      <td>8.0</td>\n",
       "      <td>8.0</td>\n",
       "    </tr>\n",
       "  </tbody>\n",
       "</table>\n",
       "<p>1 rows × 48 columns</p>\n",
       "</div>"
      ],
      "text/plain": [
       "   id_x  player_api_id         player_name  player_fifa_api_id_x  \\\n",
       "0     1         505942  Aaron Appindangoye                218353   \n",
       "\n",
       "              birthday  height  weight  id_y  player_fifa_api_id_y  \\\n",
       "0  1992-02-29 00:00:00  182.88     187     1                218353   \n",
       "\n",
       "                  date  ...  vision  penalties marking standing_tackle  \\\n",
       "0  2016-02-18 00:00:00  ...    54.0       48.0    65.0            69.0   \n",
       "\n",
       "  sliding_tackle  gk_diving  gk_handling  gk_kicking  gk_positioning  \\\n",
       "0           69.0        6.0         11.0        10.0             8.0   \n",
       "\n",
       "   gk_reflexes  \n",
       "0          8.0  \n",
       "\n",
       "[1 rows x 48 columns]"
      ]
     },
     "execution_count": 34,
     "metadata": {},
     "output_type": "execute_result"
    }
   ],
   "source": [
    "# Repeating the previous steps for Player Data and League Data \n",
    "# Firstly, repeat the previous steps for Player Data\n",
    "df_player = pd.read_csv('player_edited.csv')\n",
    "df_player.head(1)"
   ]
  },
  {
   "cell_type": "code",
   "execution_count": 35,
   "metadata": {},
   "outputs": [],
   "source": [
    "# Dropping unnecessary columns of Palyer Data file\n",
    "df_player.drop(['id_x', 'player_api_id', 'player_fifa_api_id_x','player_fifa_api_id_y', 'id_y'], axis=1, inplace=True)"
   ]
  },
  {
   "cell_type": "code",
   "execution_count": 36,
   "metadata": {
    "scrolled": true
   },
   "outputs": [
    {
     "data": {
      "text/plain": [
       "player_name               0\n",
       "birthday                  0\n",
       "height                    0\n",
       "weight                    0\n",
       "date                      0\n",
       "overall_rating          836\n",
       "potential               836\n",
       "preferred_foot          836\n",
       "attacking_work_rate    3230\n",
       "defensive_work_rate     836\n",
       "crossing                836\n",
       "finishing               836\n",
       "heading_accuracy        836\n",
       "short_passing           836\n",
       "volleys                2713\n",
       "dribbling               836\n",
       "curve                  2713\n",
       "free_kick_accuracy      836\n",
       "long_passing            836\n",
       "ball_control            836\n",
       "acceleration            836\n",
       "sprint_speed            836\n",
       "agility                2713\n",
       "reactions               836\n",
       "balance                2713\n",
       "shot_power              836\n",
       "jumping                2713\n",
       "stamina                 836\n",
       "strength                836\n",
       "long_shots              836\n",
       "aggression              836\n",
       "interceptions           836\n",
       "positioning             836\n",
       "vision                 2713\n",
       "penalties               836\n",
       "marking                 836\n",
       "standing_tackle         836\n",
       "sliding_tackle         2713\n",
       "gk_diving               836\n",
       "gk_handling             836\n",
       "gk_kicking              836\n",
       "gk_positioning          836\n",
       "gk_reflexes             836\n",
       "dtype: int64"
      ]
     },
     "execution_count": 36,
     "metadata": {},
     "output_type": "execute_result"
    }
   ],
   "source": [
    "# Inspecting the missing values in Player Data file\n",
    "df_player.isnull().sum()"
   ]
  },
  {
   "cell_type": "code",
   "execution_count": 37,
   "metadata": {},
   "outputs": [],
   "source": [
    "# Deleting unnecessary features with missing value\n",
    "df_player.drop(['attacking_work_rate', 'volleys', 'curve', 'agility', 'balance', 'jumping', 'vision','sliding_tackle'], axis=1, inplace= True)"
   ]
  },
  {
   "cell_type": "code",
   "execution_count": 38,
   "metadata": {},
   "outputs": [],
   "source": [
    "# Deleting missing values\n",
    "df_player.isnull().sum()\n",
    "df_player.dropna(axis=0, inplace= True)"
   ]
  },
  {
   "cell_type": "code",
   "execution_count": 39,
   "metadata": {},
   "outputs": [],
   "source": [
    "# saving the previous steps \n",
    "df_player.to_csv('player_edited.csv', index = False)"
   ]
  },
  {
   "cell_type": "code",
   "execution_count": 40,
   "metadata": {},
   "outputs": [
    {
     "data": {
      "text/html": [
       "<div>\n",
       "<style scoped>\n",
       "    .dataframe tbody tr th:only-of-type {\n",
       "        vertical-align: middle;\n",
       "    }\n",
       "\n",
       "    .dataframe tbody tr th {\n",
       "        vertical-align: top;\n",
       "    }\n",
       "\n",
       "    .dataframe thead th {\n",
       "        text-align: right;\n",
       "    }\n",
       "</style>\n",
       "<table border=\"1\" class=\"dataframe\">\n",
       "  <thead>\n",
       "    <tr style=\"text-align: right;\">\n",
       "      <th></th>\n",
       "      <th>id_x</th>\n",
       "      <th>country_id</th>\n",
       "      <th>name</th>\n",
       "      <th>country</th>\n",
       "      <th>id_y</th>\n",
       "      <th>league_id</th>\n",
       "      <th>season</th>\n",
       "      <th>stage</th>\n",
       "      <th>date</th>\n",
       "      <th>match_api_id</th>\n",
       "      <th>...</th>\n",
       "      <th>SJA</th>\n",
       "      <th>VCH</th>\n",
       "      <th>VCD</th>\n",
       "      <th>VCA</th>\n",
       "      <th>GBH</th>\n",
       "      <th>GBD</th>\n",
       "      <th>GBA</th>\n",
       "      <th>BSH</th>\n",
       "      <th>BSD</th>\n",
       "      <th>BSA</th>\n",
       "    </tr>\n",
       "  </thead>\n",
       "  <tbody>\n",
       "    <tr>\n",
       "      <th>0</th>\n",
       "      <td>1</td>\n",
       "      <td>1</td>\n",
       "      <td>Belgium Jupiler League</td>\n",
       "      <td>Belgium</td>\n",
       "      <td>1</td>\n",
       "      <td>1</td>\n",
       "      <td>2008/2009</td>\n",
       "      <td>1</td>\n",
       "      <td>2008-08-17 00:00:00</td>\n",
       "      <td>492473</td>\n",
       "      <td>...</td>\n",
       "      <td>4.0</td>\n",
       "      <td>1.65</td>\n",
       "      <td>3.4</td>\n",
       "      <td>4.5</td>\n",
       "      <td>1.78</td>\n",
       "      <td>3.25</td>\n",
       "      <td>4.0</td>\n",
       "      <td>1.73</td>\n",
       "      <td>3.4</td>\n",
       "      <td>4.2</td>\n",
       "    </tr>\n",
       "  </tbody>\n",
       "</table>\n",
       "<p>1 rows × 118 columns</p>\n",
       "</div>"
      ],
      "text/plain": [
       "   id_x  country_id                    name  country  id_y  league_id  \\\n",
       "0     1           1  Belgium Jupiler League  Belgium     1          1   \n",
       "\n",
       "      season  stage                 date  match_api_id  ...  SJA   VCH  VCD  \\\n",
       "0  2008/2009      1  2008-08-17 00:00:00        492473  ...  4.0  1.65  3.4   \n",
       "\n",
       "   VCA   GBH   GBD  GBA   BSH  BSD  BSA  \n",
       "0  4.5  1.78  3.25  4.0  1.73  3.4  4.2  \n",
       "\n",
       "[1 rows x 118 columns]"
      ]
     },
     "execution_count": 40,
     "metadata": {},
     "output_type": "execute_result"
    }
   ],
   "source": [
    "# Secondly, repeat the previous steps for Player Data\n",
    "df_league = pd.read_csv('league_edited.csv')\n",
    "df_league.head(1)"
   ]
  },
  {
   "cell_type": "code",
   "execution_count": 41,
   "metadata": {},
   "outputs": [
    {
     "name": "stdout",
     "output_type": "stream",
     "text": [
      "<class 'pandas.core.frame.DataFrame'>\n",
      "RangeIndex: 25979 entries, 0 to 25978\n",
      "Columns: 118 entries, id_x to BSA\n",
      "dtypes: float64(96), int64(10), object(12)\n",
      "memory usage: 23.4+ MB\n"
     ]
    }
   ],
   "source": [
    "# Deleting unnecessary features for Team data\n",
    "df_league.info()\n",
    "df_league.drop(['id_x', 'country_id', 'id_y', 'league_id','season', 'match_api_id'], axis=1, inplace= True)"
   ]
  },
  {
   "cell_type": "code",
   "execution_count": 42,
   "metadata": {},
   "outputs": [],
   "source": [
    "# Deleting missing values\n",
    "df_league.isnull().sum()\n",
    "df_league.dropna(axis=1, inplace=True)"
   ]
  },
  {
   "cell_type": "code",
   "execution_count": 43,
   "metadata": {},
   "outputs": [],
   "source": [
    "# saving the previous steps \n",
    "df_league.to_csv('league_edited.csv', index = False)"
   ]
  },
  {
   "cell_type": "markdown",
   "metadata": {},
   "source": [
    "### Inspecting duplicated values"
   ]
  },
  {
   "cell_type": "code",
   "execution_count": 44,
   "metadata": {},
   "outputs": [
    {
     "data": {
      "text/plain": [
       "1170"
      ]
     },
     "execution_count": 44,
     "metadata": {},
     "output_type": "execute_result"
    }
   ],
   "source": [
    "# Inspecting duplicated values in Team Data\n",
    "df_team.duplicated().sum()"
   ]
  },
  {
   "cell_type": "code",
   "execution_count": 45,
   "metadata": {},
   "outputs": [
    {
     "data": {
      "text/plain": [
       "0"
      ]
     },
     "execution_count": 45,
     "metadata": {},
     "output_type": "execute_result"
    }
   ],
   "source": [
    "# Removing duplicated values in Team Data\n",
    "df_team.drop_duplicates(inplace=True,ignore_index=False)\n",
    "df_team.duplicated().sum()"
   ]
  },
  {
   "cell_type": "code",
   "execution_count": 46,
   "metadata": {},
   "outputs": [
    {
     "data": {
      "text/plain": [
       "0"
      ]
     },
     "execution_count": 46,
     "metadata": {},
     "output_type": "execute_result"
    }
   ],
   "source": [
    "# Inspecting duplicated values in League Data\n",
    "df_league.duplicated().sum()"
   ]
  },
  {
   "cell_type": "code",
   "execution_count": 47,
   "metadata": {},
   "outputs": [
    {
     "data": {
      "text/plain": [
       "0"
      ]
     },
     "execution_count": 47,
     "metadata": {},
     "output_type": "execute_result"
    }
   ],
   "source": [
    "# Inspecting duplicated values in Players Data\n",
    "df_player.duplicated().sum()"
   ]
  },
  {
   "cell_type": "markdown",
   "metadata": {},
   "source": [
    "<a id='eda'></a>\n",
    "## Exploratory Data Analysis\n",
    "\n",
    ">  After wrangling the data,  it's time for answering the most common questions through Exploratory Data Analysis\n",
    "\n",
    "###  Question 1 (What is the effect of playing home over away games?)"
   ]
  },
  {
   "cell_type": "markdown",
   "metadata": {},
   "source": [
    "> One of the most common questions in the soccer world, what is the effect for any team playing home over away stadium?\n",
    "Any champion team, they have fan support at home and the probability of winning a game is more at home than away.\n",
    "we're going to get some stats to prove the fact of this concept."
   ]
  },
  {
   "cell_type": "code",
   "execution_count": 48,
   "metadata": {},
   "outputs": [
    {
     "data": {
      "text/html": [
       "<div>\n",
       "<style scoped>\n",
       "    .dataframe tbody tr th:only-of-type {\n",
       "        vertical-align: middle;\n",
       "    }\n",
       "\n",
       "    .dataframe tbody tr th {\n",
       "        vertical-align: top;\n",
       "    }\n",
       "\n",
       "    .dataframe thead th {\n",
       "        text-align: right;\n",
       "    }\n",
       "</style>\n",
       "<table border=\"1\" class=\"dataframe\">\n",
       "  <thead>\n",
       "    <tr style=\"text-align: right;\">\n",
       "      <th></th>\n",
       "      <th>name</th>\n",
       "      <th>country</th>\n",
       "      <th>stage</th>\n",
       "      <th>date</th>\n",
       "      <th>home_team_api_id</th>\n",
       "      <th>away_team_api_id</th>\n",
       "      <th>home_team_goal</th>\n",
       "      <th>away_team_goal</th>\n",
       "    </tr>\n",
       "  </thead>\n",
       "  <tbody>\n",
       "    <tr>\n",
       "      <th>0</th>\n",
       "      <td>Belgium Jupiler League</td>\n",
       "      <td>Belgium</td>\n",
       "      <td>1</td>\n",
       "      <td>2008-08-17 00:00:00</td>\n",
       "      <td>9987</td>\n",
       "      <td>9993</td>\n",
       "      <td>1</td>\n",
       "      <td>1</td>\n",
       "    </tr>\n",
       "  </tbody>\n",
       "</table>\n",
       "</div>"
      ],
      "text/plain": [
       "                     name  country  stage                 date  \\\n",
       "0  Belgium Jupiler League  Belgium      1  2008-08-17 00:00:00   \n",
       "\n",
       "   home_team_api_id  away_team_api_id  home_team_goal  away_team_goal  \n",
       "0              9987              9993               1               1  "
      ]
     },
     "execution_count": 48,
     "metadata": {},
     "output_type": "execute_result"
    }
   ],
   "source": [
    "# loading data of European leagues to answer the question\n",
    "df_league = pd.read_csv('league_edited.csv')\n",
    "df_league.head(1)"
   ]
  },
  {
   "cell_type": "markdown",
   "metadata": {},
   "source": [
    "### First, we're going to describe the variables and checking its distribution."
   ]
  },
  {
   "cell_type": "code",
   "execution_count": 49,
   "metadata": {},
   "outputs": [
    {
     "data": {
      "text/plain": [
       "count    25979.000000\n",
       "mean         1.544594\n",
       "std          1.297158\n",
       "min          0.000000\n",
       "25%          1.000000\n",
       "50%          1.000000\n",
       "75%          2.000000\n",
       "max         10.000000\n",
       "Name: home_team_goal, dtype: float64"
      ]
     },
     "execution_count": 49,
     "metadata": {},
     "output_type": "execute_result"
    }
   ],
   "source": [
    "# Describe the data of home teams goals\n",
    "df_league['home_team_goal'].describe()"
   ]
  },
  {
   "cell_type": "markdown",
   "metadata": {},
   "source": [
    "### As we can see in the above-descriptive  statistics, the outlier value is the max team goals per match and it rarely occurs and it doesn't affect the data analysis eventually we'll use the subtracted value between home and away goals. other than that, everything is okay"
   ]
  },
  {
   "cell_type": "code",
   "execution_count": 50,
   "metadata": {},
   "outputs": [
    {
     "data": {
      "text/plain": [
       "count    25979.000000\n",
       "mean         1.160938\n",
       "std          1.142110\n",
       "min          0.000000\n",
       "25%          0.000000\n",
       "50%          1.000000\n",
       "75%          2.000000\n",
       "max          9.000000\n",
       "Name: away_team_goal, dtype: float64"
      ]
     },
     "execution_count": 50,
     "metadata": {},
     "output_type": "execute_result"
    }
   ],
   "source": [
    "# Describe the data of away teams goals\n",
    "df_league['away_team_goal'].describe()"
   ]
  },
  {
   "cell_type": "markdown",
   "metadata": {},
   "source": [
    "### The same conclusion here for Away Team Goals per match compared with home Team Goals descriptive statistics"
   ]
  },
  {
   "cell_type": "code",
   "execution_count": 51,
   "metadata": {},
   "outputs": [
    {
     "data": {
      "image/png": "[encoded data removed]",
      "text/plain": [
       "<Figure size 640x480 with 1 Axes>"
      ]
     },
     "metadata": {},
     "output_type": "display_data"
    }
   ],
   "source": [
    "# Checking the distribution of home and away teams goals\n",
    "df_league['away_team_goal'].hist(alpha=0.5, bins=20, label='Away team goals')\n",
    "df_league['home_team_goal'].hist(alpha=0.5, bins=20, label='Home team goals')\n",
    "plt.legend();"
   ]
  },
  {
   "cell_type": "markdown",
   "metadata": {},
   "source": [
    "### The above graph describes the Statistics Comparison between Home and Away Goals per match.\n",
    "> for example, as we can see the proportion of nonscoring goals for the away team is more than the home team."
   ]
  },
  {
   "cell_type": "markdown",
   "metadata": {},
   "source": [
    "### Second, Visualization of Data Analysis"
   ]
  },
  {
   "cell_type": "code",
   "execution_count": 52,
   "metadata": {},
   "outputs": [
    {
     "data": {
      "text/plain": [
       "11917"
      ]
     },
     "execution_count": 52,
     "metadata": {},
     "output_type": "execute_result"
    }
   ],
   "source": [
    "# Using the data to know home victory vs home loss\n",
    "# Getting the number of home victories for all European leagues over the period\n",
    "df_home_victory = df_league.query('home_team_goal > away_team_goal')\n",
    "df_home_victory.shape[0]"
   ]
  },
  {
   "cell_type": "code",
   "execution_count": 53,
   "metadata": {},
   "outputs": [
    {
     "data": {
      "text/plain": [
       "7466"
      ]
     },
     "execution_count": 53,
     "metadata": {},
     "output_type": "execute_result"
    }
   ],
   "source": [
    "# Getting the number of home loses for all European leagues over the period\n",
    "df_home_lose = df_league.query('home_team_goal < away_team_goal')\n",
    "df_home_lose.shape[0]"
   ]
  },
  {
   "cell_type": "code",
   "execution_count": 54,
   "metadata": {},
   "outputs": [
    {
     "data": {
      "image/png": "[encoded data removed]",
      "text/plain": [
       "<Figure size 640x480 with 1 Axes>"
      ]
     },
     "metadata": {},
     "output_type": "display_data"
    }
   ],
   "source": [
    "# Visualize analyzed data\n",
    "values = [df_home_victory.shape[0],df_home_lose.shape[0]]\n",
    "plt.pie(values ,labels=['Home Victory', 'Home Lose'] ,autopct='%1.1f%%');\n",
    "plt.title('The Effectiveness of Playing Home over the time period Fig-1');"
   ]
  },
  {
   "cell_type": "markdown",
   "metadata": {},
   "source": [
    "### The figure shows the percentage of the Home Teams victory over The Away Teams.\n",
    "> As we've guessed the percentage of Home Team Victory is a lot more than Away Team."
   ]
  },
  {
   "cell_type": "markdown",
   "metadata": {},
   "source": [
    "###  Question 2  (What is the most leagues scoring goals over the time period?)"
   ]
  },
  {
   "cell_type": "markdown",
   "metadata": {},
   "source": [
    "> Another question can be answered by this useful data.\n",
    "The most-scoring league is an indicator of the most powerful league, every great player wants to play in such a league with high goals to increase his record.\n",
    "\n",
    "> We're going to get the leagues that score more goals"
   ]
  },
  {
   "cell_type": "code",
   "execution_count": 55,
   "metadata": {},
   "outputs": [
    {
     "data": {
      "text/html": [
       "<div>\n",
       "<style scoped>\n",
       "    .dataframe tbody tr th:only-of-type {\n",
       "        vertical-align: middle;\n",
       "    }\n",
       "\n",
       "    .dataframe tbody tr th {\n",
       "        vertical-align: top;\n",
       "    }\n",
       "\n",
       "    .dataframe thead th {\n",
       "        text-align: right;\n",
       "    }\n",
       "</style>\n",
       "<table border=\"1\" class=\"dataframe\">\n",
       "  <thead>\n",
       "    <tr style=\"text-align: right;\">\n",
       "      <th></th>\n",
       "      <th>name</th>\n",
       "      <th>country</th>\n",
       "      <th>stage</th>\n",
       "      <th>date</th>\n",
       "      <th>home_team_api_id</th>\n",
       "      <th>away_team_api_id</th>\n",
       "      <th>home_team_goal</th>\n",
       "      <th>away_team_goal</th>\n",
       "    </tr>\n",
       "  </thead>\n",
       "  <tbody>\n",
       "    <tr>\n",
       "      <th>0</th>\n",
       "      <td>Belgium Jupiler League</td>\n",
       "      <td>Belgium</td>\n",
       "      <td>1</td>\n",
       "      <td>2008-08-17 00:00:00</td>\n",
       "      <td>9987</td>\n",
       "      <td>9993</td>\n",
       "      <td>1</td>\n",
       "      <td>1</td>\n",
       "    </tr>\n",
       "  </tbody>\n",
       "</table>\n",
       "</div>"
      ],
      "text/plain": [
       "                     name  country  stage                 date  \\\n",
       "0  Belgium Jupiler League  Belgium      1  2008-08-17 00:00:00   \n",
       "\n",
       "   home_team_api_id  away_team_api_id  home_team_goal  away_team_goal  \n",
       "0              9987              9993               1               1  "
      ]
     },
     "execution_count": 55,
     "metadata": {},
     "output_type": "execute_result"
    }
   ],
   "source": [
    "# loading data of European leagues to answer the question\n",
    "df_league = pd.read_csv('league_edited.csv')\n",
    "df_league.head(1)"
   ]
  },
  {
   "cell_type": "code",
   "execution_count": 56,
   "metadata": {},
   "outputs": [
    {
     "data": {
      "text/html": [
       "<div>\n",
       "<style scoped>\n",
       "    .dataframe tbody tr th:only-of-type {\n",
       "        vertical-align: middle;\n",
       "    }\n",
       "\n",
       "    .dataframe tbody tr th {\n",
       "        vertical-align: top;\n",
       "    }\n",
       "\n",
       "    .dataframe thead th {\n",
       "        text-align: right;\n",
       "    }\n",
       "</style>\n",
       "<table border=\"1\" class=\"dataframe\">\n",
       "  <thead>\n",
       "    <tr style=\"text-align: right;\">\n",
       "      <th></th>\n",
       "      <th>name</th>\n",
       "      <th>country</th>\n",
       "      <th>stage</th>\n",
       "      <th>date</th>\n",
       "      <th>home_team_api_id</th>\n",
       "      <th>away_team_api_id</th>\n",
       "      <th>home_team_goal</th>\n",
       "      <th>away_team_goal</th>\n",
       "      <th>total_goal</th>\n",
       "    </tr>\n",
       "  </thead>\n",
       "  <tbody>\n",
       "    <tr>\n",
       "      <th>0</th>\n",
       "      <td>Belgium Jupiler League</td>\n",
       "      <td>Belgium</td>\n",
       "      <td>1</td>\n",
       "      <td>2008-08-17 00:00:00</td>\n",
       "      <td>9987</td>\n",
       "      <td>9993</td>\n",
       "      <td>1</td>\n",
       "      <td>1</td>\n",
       "      <td>2</td>\n",
       "    </tr>\n",
       "  </tbody>\n",
       "</table>\n",
       "</div>"
      ],
      "text/plain": [
       "                     name  country  stage                 date  \\\n",
       "0  Belgium Jupiler League  Belgium      1  2008-08-17 00:00:00   \n",
       "\n",
       "   home_team_api_id  away_team_api_id  home_team_goal  away_team_goal  \\\n",
       "0              9987              9993               1               1   \n",
       "\n",
       "   total_goal  \n",
       "0           2  "
      ]
     },
     "execution_count": 56,
     "metadata": {},
     "output_type": "execute_result"
    }
   ],
   "source": [
    "# Create a new column to get total goals of every single game for all leagues \n",
    "df_league['total_goal'] = df_league['home_team_goal'] + df_league['away_team_goal']\n",
    "df_league.head(1)"
   ]
  },
  {
   "cell_type": "markdown",
   "metadata": {},
   "source": [
    "### First, we're going to describe the variables and checking its distribution."
   ]
  },
  {
   "cell_type": "code",
   "execution_count": 57,
   "metadata": {},
   "outputs": [
    {
     "data": {
      "text/plain": [
       "count    25979.000000\n",
       "mean         2.705531\n",
       "std          1.672456\n",
       "min          0.000000\n",
       "25%          2.000000\n",
       "50%          3.000000\n",
       "75%          4.000000\n",
       "max         12.000000\n",
       "Name: total_goal, dtype: float64"
      ]
     },
     "execution_count": 57,
     "metadata": {},
     "output_type": "execute_result"
    }
   ],
   "source": [
    "# Describe the data of total goals for home and away teams per match\n",
    "df_league['total_goal'].describe()"
   ]
  },
  {
   "cell_type": "markdown",
   "metadata": {},
   "source": [
    "### As we can see in the above- statistics, the outlier value is the max of summation goals per match and it rarely occurs and it doesn't affect the data analysis eventually we'll use the summation value for home and away goals. other than that, everything is okay"
   ]
  },
  {
   "cell_type": "code",
   "execution_count": 58,
   "metadata": {},
   "outputs": [
    {
     "data": {
      "image/png": "[encoded data removed]",
      "text/plain": [
       "<Figure size 640x480 with 1 Axes>"
      ]
     },
     "metadata": {},
     "output_type": "display_data"
    }
   ],
   "source": [
    "# Checking the distribution of total goals for home and away teams per match\n",
    "df_league['total_goal'].hist(alpha=0.5, bins=20, label='Total Goal for Home and Away Teams / Game')\n",
    "plt.legend();"
   ]
  },
  {
   "cell_type": "markdown",
   "metadata": {},
   "source": [
    "### The above graph describes the Statistics for Summation Goals per match.\n",
    "> for example, as we can see the mean of summation goals per match is approximately 2.5 goals over the time period."
   ]
  },
  {
   "cell_type": "markdown",
   "metadata": {},
   "source": [
    "### Second, Visualization of Data Analysis"
   ]
  },
  {
   "cell_type": "code",
   "execution_count": 59,
   "metadata": {},
   "outputs": [
    {
     "data": {
      "text/html": [
       "<div>\n",
       "<style scoped>\n",
       "    .dataframe tbody tr th:only-of-type {\n",
       "        vertical-align: middle;\n",
       "    }\n",
       "\n",
       "    .dataframe tbody tr th {\n",
       "        vertical-align: top;\n",
       "    }\n",
       "\n",
       "    .dataframe thead th {\n",
       "        text-align: right;\n",
       "    }\n",
       "</style>\n",
       "<table border=\"1\" class=\"dataframe\">\n",
       "  <thead>\n",
       "    <tr style=\"text-align: right;\">\n",
       "      <th></th>\n",
       "      <th>stage</th>\n",
       "      <th>home_team_api_id</th>\n",
       "      <th>away_team_api_id</th>\n",
       "      <th>home_team_goal</th>\n",
       "      <th>away_team_goal</th>\n",
       "      <th>total_goal</th>\n",
       "    </tr>\n",
       "    <tr>\n",
       "      <th>name</th>\n",
       "      <th></th>\n",
       "      <th></th>\n",
       "      <th></th>\n",
       "      <th></th>\n",
       "      <th></th>\n",
       "      <th></th>\n",
       "    </tr>\n",
       "  </thead>\n",
       "  <tbody>\n",
       "    <tr>\n",
       "      <th>Belgium Jupiler League</th>\n",
       "      <td>27252</td>\n",
       "      <td>23864908</td>\n",
       "      <td>23864908</td>\n",
       "      <td>2781</td>\n",
       "      <td>2060</td>\n",
       "      <td>4841</td>\n",
       "    </tr>\n",
       "    <tr>\n",
       "      <th>England Premier League</th>\n",
       "      <td>59280</td>\n",
       "      <td>27792516</td>\n",
       "      <td>27792516</td>\n",
       "      <td>4715</td>\n",
       "      <td>3525</td>\n",
       "      <td>8240</td>\n",
       "    </tr>\n",
       "    <tr>\n",
       "      <th>France Ligue 1</th>\n",
       "      <td>59280</td>\n",
       "      <td>29817232</td>\n",
       "      <td>29817232</td>\n",
       "      <td>4265</td>\n",
       "      <td>3162</td>\n",
       "      <td>7427</td>\n",
       "    </tr>\n",
       "    <tr>\n",
       "      <th>Germany 1. Bundesliga</th>\n",
       "      <td>42840</td>\n",
       "      <td>22473252</td>\n",
       "      <td>22473252</td>\n",
       "      <td>3982</td>\n",
       "      <td>3121</td>\n",
       "      <td>7103</td>\n",
       "    </tr>\n",
       "    <tr>\n",
       "      <th>Italy Serie A</th>\n",
       "      <td>58654</td>\n",
       "      <td>31212831</td>\n",
       "      <td>31215792</td>\n",
       "      <td>4528</td>\n",
       "      <td>3367</td>\n",
       "      <td>7895</td>\n",
       "    </tr>\n",
       "    <tr>\n",
       "      <th>Netherlands Eredivisie</th>\n",
       "      <td>42840</td>\n",
       "      <td>22476040</td>\n",
       "      <td>22476040</td>\n",
       "      <td>4357</td>\n",
       "      <td>3185</td>\n",
       "      <td>7542</td>\n",
       "    </tr>\n",
       "    <tr>\n",
       "      <th>Poland Ekstraklasa</th>\n",
       "      <td>29760</td>\n",
       "      <td>15142215</td>\n",
       "      <td>15142215</td>\n",
       "      <td>2678</td>\n",
       "      <td>1978</td>\n",
       "      <td>4656</td>\n",
       "    </tr>\n",
       "    <tr>\n",
       "      <th>Portugal Liga ZON Sagres</th>\n",
       "      <td>33030</td>\n",
       "      <td>28630043</td>\n",
       "      <td>28630043</td>\n",
       "      <td>2890</td>\n",
       "      <td>2311</td>\n",
       "      <td>5201</td>\n",
       "    </tr>\n",
       "    <tr>\n",
       "      <th>Scotland Premier League</th>\n",
       "      <td>35568</td>\n",
       "      <td>16654496</td>\n",
       "      <td>16654214</td>\n",
       "      <td>2607</td>\n",
       "      <td>2197</td>\n",
       "      <td>4804</td>\n",
       "    </tr>\n",
       "    <tr>\n",
       "      <th>Spain LIGA BBVA</th>\n",
       "      <td>59280</td>\n",
       "      <td>27458154</td>\n",
       "      <td>27458154</td>\n",
       "      <td>4959</td>\n",
       "      <td>3453</td>\n",
       "      <td>8412</td>\n",
       "    </tr>\n",
       "    <tr>\n",
       "      <th>Switzerland Super League</th>\n",
       "      <td>26145</td>\n",
       "      <td>13862313</td>\n",
       "      <td>13862313</td>\n",
       "      <td>2365</td>\n",
       "      <td>1801</td>\n",
       "      <td>4166</td>\n",
       "    </tr>\n",
       "  </tbody>\n",
       "</table>\n",
       "</div>"
      ],
      "text/plain": [
       "                          stage  home_team_api_id  away_team_api_id  \\\n",
       "name                                                                  \n",
       "Belgium Jupiler League    27252          23864908          23864908   \n",
       "England Premier League    59280          27792516          27792516   \n",
       "France Ligue 1            59280          29817232          29817232   \n",
       "Germany 1. Bundesliga     42840          22473252          22473252   \n",
       "Italy Serie A             58654          31212831          31215792   \n",
       "Netherlands Eredivisie    42840          22476040          22476040   \n",
       "Poland Ekstraklasa        29760          15142215          15142215   \n",
       "Portugal Liga ZON Sagres  33030          28630043          28630043   \n",
       "Scotland Premier League   35568          16654496          16654214   \n",
       "Spain LIGA BBVA           59280          27458154          27458154   \n",
       "Switzerland Super League  26145          13862313          13862313   \n",
       "\n",
       "                          home_team_goal  away_team_goal  total_goal  \n",
       "name                                                                  \n",
       "Belgium Jupiler League              2781            2060        4841  \n",
       "England Premier League              4715            3525        8240  \n",
       "France Ligue 1                      4265            3162        7427  \n",
       "Germany 1. Bundesliga               3982            3121        7103  \n",
       "Italy Serie A                       4528            3367        7895  \n",
       "Netherlands Eredivisie              4357            3185        7542  \n",
       "Poland Ekstraklasa                  2678            1978        4656  \n",
       "Portugal Liga ZON Sagres            2890            2311        5201  \n",
       "Scotland Premier League             2607            2197        4804  \n",
       "Spain LIGA BBVA                     4959            3453        8412  \n",
       "Switzerland Super League            2365            1801        4166  "
      ]
     },
     "execution_count": 59,
     "metadata": {},
     "output_type": "execute_result"
    }
   ],
   "source": [
    "# filtering by league name and getting a summation of goals of the filtered league\n",
    "df_most_goals = df_league.groupby('name').sum()\n",
    "df_most_goals"
   ]
  },
  {
   "cell_type": "code",
   "execution_count": 60,
   "metadata": {},
   "outputs": [],
   "source": [
    "# Sorting values by the league has the most goals\n",
    "values = df_most_goals['total_goal'].copy()\n",
    "values.sort_values(ascending=False, inplace= True)\n",
    "values\n",
    "index = values.index"
   ]
  },
  {
   "cell_type": "code",
   "execution_count": 61,
   "metadata": {},
   "outputs": [
    {
     "data": {
      "image/png": "[encoded data removed]",
      "text/plain": [
       "<Figure size 800x500 with 1 Axes>"
      ]
     },
     "metadata": {},
     "output_type": "display_data"
    }
   ],
   "source": [
    "# Visualize analyzed data\n",
    "plt.subplots(figsize= (8,5))\n",
    "plt.bar(index ,values);\n",
    "plt.title('European Leagues Goals 2008 to 2016 Fig-2')\n",
    "plt.ylabel('No of goals for each league over the time period')\n",
    "plt.xlabel('European Leagues')\n",
    "plt.xticks(rotation=90)\n",
    "plt.show()"
   ]
  },
  {
   "cell_type": "markdown",
   "metadata": {},
   "source": [
    "### The figure orders the league that has the most goals\n",
    "> As we observe, Spain Liga BBVA is the most league-scoring goals from 2008 to 2016, followed by the English Premier League, and so on."
   ]
  },
  {
   "cell_type": "markdown",
   "metadata": {},
   "source": [
    "### Question 3 (What are the top ten players with the best ranking over the time period?)\n"
   ]
  },
  {
   "cell_type": "markdown",
   "metadata": {},
   "source": [
    "> One of my favorite question, for any league, any cup and any period.\n",
    "<br>Comparison between the greatest palyer at any time is one of many things that makes fans love this sport.\n",
    "\n",
    "> We're going to get the top ten players over the time period."
   ]
  },
  {
   "cell_type": "code",
   "execution_count": 62,
   "metadata": {},
   "outputs": [
    {
     "data": {
      "text/html": [
       "<div>\n",
       "<style scoped>\n",
       "    .dataframe tbody tr th:only-of-type {\n",
       "        vertical-align: middle;\n",
       "    }\n",
       "\n",
       "    .dataframe tbody tr th {\n",
       "        vertical-align: top;\n",
       "    }\n",
       "\n",
       "    .dataframe thead th {\n",
       "        text-align: right;\n",
       "    }\n",
       "</style>\n",
       "<table border=\"1\" class=\"dataframe\">\n",
       "  <thead>\n",
       "    <tr style=\"text-align: right;\">\n",
       "      <th></th>\n",
       "      <th>player_name</th>\n",
       "      <th>birthday</th>\n",
       "      <th>height</th>\n",
       "      <th>weight</th>\n",
       "      <th>date</th>\n",
       "      <th>overall_rating</th>\n",
       "      <th>potential</th>\n",
       "      <th>preferred_foot</th>\n",
       "      <th>defensive_work_rate</th>\n",
       "      <th>crossing</th>\n",
       "      <th>...</th>\n",
       "      <th>interceptions</th>\n",
       "      <th>positioning</th>\n",
       "      <th>penalties</th>\n",
       "      <th>marking</th>\n",
       "      <th>standing_tackle</th>\n",
       "      <th>gk_diving</th>\n",
       "      <th>gk_handling</th>\n",
       "      <th>gk_kicking</th>\n",
       "      <th>gk_positioning</th>\n",
       "      <th>gk_reflexes</th>\n",
       "    </tr>\n",
       "  </thead>\n",
       "  <tbody>\n",
       "    <tr>\n",
       "      <th>0</th>\n",
       "      <td>Aaron Appindangoye</td>\n",
       "      <td>1992-02-29 00:00:00</td>\n",
       "      <td>182.88</td>\n",
       "      <td>187</td>\n",
       "      <td>2016-02-18 00:00:00</td>\n",
       "      <td>67.0</td>\n",
       "      <td>71.0</td>\n",
       "      <td>right</td>\n",
       "      <td>medium</td>\n",
       "      <td>49.0</td>\n",
       "      <td>...</td>\n",
       "      <td>70.0</td>\n",
       "      <td>45.0</td>\n",
       "      <td>48.0</td>\n",
       "      <td>65.0</td>\n",
       "      <td>69.0</td>\n",
       "      <td>6.0</td>\n",
       "      <td>11.0</td>\n",
       "      <td>10.0</td>\n",
       "      <td>8.0</td>\n",
       "      <td>8.0</td>\n",
       "    </tr>\n",
       "  </tbody>\n",
       "</table>\n",
       "<p>1 rows × 35 columns</p>\n",
       "</div>"
      ],
      "text/plain": [
       "          player_name             birthday  height  weight  \\\n",
       "0  Aaron Appindangoye  1992-02-29 00:00:00  182.88     187   \n",
       "\n",
       "                  date  overall_rating  potential preferred_foot  \\\n",
       "0  2016-02-18 00:00:00            67.0       71.0          right   \n",
       "\n",
       "  defensive_work_rate  crossing  ...  interceptions  positioning  penalties  \\\n",
       "0              medium      49.0  ...           70.0         45.0       48.0   \n",
       "\n",
       "   marking  standing_tackle  gk_diving  gk_handling  gk_kicking  \\\n",
       "0     65.0             69.0        6.0         11.0        10.0   \n",
       "\n",
       "   gk_positioning  gk_reflexes  \n",
       "0             8.0          8.0  \n",
       "\n",
       "[1 rows x 35 columns]"
      ]
     },
     "execution_count": 62,
     "metadata": {},
     "output_type": "execute_result"
    }
   ],
   "source": [
    "# loading data of Players in European Leagues to answer the question\n",
    "df_player = pd.read_csv('player_edited.csv')\n",
    "df_player.head(1)"
   ]
  },
  {
   "cell_type": "code",
   "execution_count": 63,
   "metadata": {},
   "outputs": [
    {
     "data": {
      "text/plain": [
       "0         1992-02-29\n",
       "1         1992-02-29\n",
       "2         1992-02-29\n",
       "3         1992-02-29\n",
       "4         1992-02-29\n",
       "             ...    \n",
       "183137    1982-06-05\n",
       "183138    1982-06-05\n",
       "183139    1982-06-05\n",
       "183140    1982-06-05\n",
       "183141    1982-06-05\n",
       "Name: birthday, Length: 183142, dtype: object"
      ]
     },
     "execution_count": 63,
     "metadata": {},
     "output_type": "execute_result"
    }
   ],
   "source": [
    "# Using pandas to clean the birthday column to filter players when the name is similar\n",
    "df_player['birthday'] = df_player['birthday'].apply(lambda x : x.split(' ')[0])\n",
    "df_player['birthday']"
   ]
  },
  {
   "cell_type": "markdown",
   "metadata": {},
   "source": [
    "### First, we're going to describe the variables and checking its distribution."
   ]
  },
  {
   "cell_type": "code",
   "execution_count": 64,
   "metadata": {},
   "outputs": [
    {
     "data": {
      "text/plain": [
       "count    183142.000000\n",
       "mean         68.600015\n",
       "std           7.041139\n",
       "min          33.000000\n",
       "25%          64.000000\n",
       "50%          69.000000\n",
       "75%          73.000000\n",
       "max          94.000000\n",
       "Name: overall_rating, dtype: float64"
      ]
     },
     "execution_count": 64,
     "metadata": {},
     "output_type": "execute_result"
    }
   ],
   "source": [
    "# Describe the data of overall rating for players\n",
    "df_player['overall_rating'].describe()"
   ]
  },
  {
   "cell_type": "markdown",
   "metadata": {},
   "source": [
    "### The above descriptive statistics show the overall rating for European Leagues Players. The minimum rating is 33, the Mean is 68.6 and the max rating is 94"
   ]
  },
  {
   "cell_type": "code",
   "execution_count": 65,
   "metadata": {},
   "outputs": [
    {
     "data": {
      "image/png": "[encoded data removed]",
      "text/plain": [
       "<Figure size 640x480 with 1 Axes>"
      ]
     },
     "metadata": {},
     "output_type": "display_data"
    }
   ],
   "source": [
    "# Checking the distribution of overall rating for players\n",
    "df_player['overall_rating'].hist(alpha=0.5, bins=20, label='Overall Rating / Players')\n",
    "plt.legend();"
   ]
  },
  {
   "cell_type": "markdown",
   "metadata": {},
   "source": [
    "### The above graph describes the previous Statistics for the overall rating of The European Leagues Players"
   ]
  },
  {
   "cell_type": "markdown",
   "metadata": {},
   "source": [
    "### Second, Visualization of Data Analysis"
   ]
  },
  {
   "cell_type": "code",
   "execution_count": 66,
   "metadata": {},
   "outputs": [
    {
     "data": {
      "text/plain": [
       "player_name                  birthday  \n",
       "Aaron Appindangoye           1992-02-29    63.600000\n",
       "Aaron Cresswell              1989-12-15    66.969697\n",
       "Aaron Doran                  1991-05-13    67.000000\n",
       "Aaron Galindo                1982-05-08    69.086957\n",
       "Aaron Hughes                 1979-11-08    73.240000\n",
       "                                             ...    \n",
       "Zsolt Low                    1979-04-29    67.571429\n",
       "Zurab Khizanishvili          1981-10-06    70.750000\n",
       "Zvjezdan Misimovic           1982-06-05    80.000000\n",
       "de Oliveira Cleber Monteiro  1980-05-23    66.111111\n",
       "dos Santos Fabio Junior      1982-10-06    66.750000\n",
       "Name: overall_rating, Length: 11060, dtype: float64"
      ]
     },
     "execution_count": 66,
     "metadata": {},
     "output_type": "execute_result"
    }
   ],
   "source": [
    "# Filtering by names and birthdays to get the top ten rating players\n",
    "df_top_rating = df_player.groupby(['player_name', 'birthday'])['overall_rating'].mean()\n",
    "df_top_rating"
   ]
  },
  {
   "cell_type": "code",
   "execution_count": 69,
   "metadata": {},
   "outputs": [
    {
     "data": {
      "text/plain": [
       "MultiIndex([(      'Lionel Messi', '1987-06-24'),\n",
       "            ( 'Cristiano Ronaldo', '1985-02-05'),\n",
       "            (     'Franck Ribery', '1983-04-07'),\n",
       "            (    'Andres Iniesta', '1984-05-11'),\n",
       "            ('Zlatan Ibrahimovic', '1981-10-03'),\n",
       "            (      'Arjen Robben', '1984-01-23'),\n",
       "            (    'Xavi Hernandez', '1980-01-25'),\n",
       "            (      'Wayne Rooney', '1985-10-24'),\n",
       "            (     'Iker Casillas', '1981-05-20'),\n",
       "            (      'Philipp Lahm', '1983-11-11')],\n",
       "           names=['player_name', 'birthday'])"
      ]
     },
     "execution_count": 69,
     "metadata": {},
     "output_type": "execute_result"
    }
   ],
   "source": [
    "# Filtering the Top 10 Players based on ratings from 2008 to 2016\n",
    "top_10  = np.argsort(df_top_rating)[::-1][:10]\n",
    "top_10_rating = df_top_rating[top_10]\n",
    "top_10_rating.index"
   ]
  },
  {
   "cell_type": "code",
   "execution_count": 68,
   "metadata": {},
   "outputs": [
    {
     "data": {
      "image/png": "[encoded data removed]",
      "text/plain": [
       "<Figure size 640x480 with 1 Axes>"
      ]
     },
     "metadata": {},
     "output_type": "display_data"
    }
   ],
   "source": [
    "# Visualize analyzed data\n",
    "plt.pie(top_10_rating ,labels=top_10_rating.index ,autopct='%1.1f%%');\n",
    "plt.title('Top 10 Player with the best ranking over the time period Fig-3');\n",
    "plt.axis('equal');\n",
    "plt.show();\n"
   ]
  },
  {
   "cell_type": "markdown",
   "metadata": {},
   "source": [
    "### The pie chart shows the percentage of the mean rating form the top 10 players over the time period.\n",
    "> As we observe, Lionel Messi is 1st and Philipp Lahm is the 10th"
   ]
  },
  {
   "cell_type": "markdown",
   "metadata": {},
   "source": [
    "###  Question 4 (What are tho most common attributes of the players with the best ranking over the time period?)\n"
   ]
  },
  {
   "cell_type": "markdown",
   "metadata": {},
   "source": [
    "> How beautiful for knowing the most common attributes of the top ten players.\n",
    "<br> We can use those attributes to improve the ranking of other players\n",
    "\n",
    "> We're going to get the top ten players' attributes over the time period."
   ]
  },
  {
   "cell_type": "code",
   "execution_count": 67,
   "metadata": {},
   "outputs": [
    {
     "data": {
      "text/html": [
       "<div>\n",
       "<style scoped>\n",
       "    .dataframe tbody tr th:only-of-type {\n",
       "        vertical-align: middle;\n",
       "    }\n",
       "\n",
       "    .dataframe tbody tr th {\n",
       "        vertical-align: top;\n",
       "    }\n",
       "\n",
       "    .dataframe thead th {\n",
       "        text-align: right;\n",
       "    }\n",
       "</style>\n",
       "<table border=\"1\" class=\"dataframe\">\n",
       "  <thead>\n",
       "    <tr style=\"text-align: right;\">\n",
       "      <th></th>\n",
       "      <th>player_name</th>\n",
       "      <th>birthday</th>\n",
       "      <th>height</th>\n",
       "      <th>weight</th>\n",
       "      <th>date</th>\n",
       "      <th>overall_rating</th>\n",
       "      <th>potential</th>\n",
       "      <th>preferred_foot</th>\n",
       "      <th>defensive_work_rate</th>\n",
       "      <th>crossing</th>\n",
       "      <th>...</th>\n",
       "      <th>interceptions</th>\n",
       "      <th>positioning</th>\n",
       "      <th>penalties</th>\n",
       "      <th>marking</th>\n",
       "      <th>standing_tackle</th>\n",
       "      <th>gk_diving</th>\n",
       "      <th>gk_handling</th>\n",
       "      <th>gk_kicking</th>\n",
       "      <th>gk_positioning</th>\n",
       "      <th>gk_reflexes</th>\n",
       "    </tr>\n",
       "  </thead>\n",
       "  <tbody>\n",
       "    <tr>\n",
       "      <th>0</th>\n",
       "      <td>Aaron Appindangoye</td>\n",
       "      <td>1992-02-29 00:00:00</td>\n",
       "      <td>182.88</td>\n",
       "      <td>187</td>\n",
       "      <td>2016-02-18 00:00:00</td>\n",
       "      <td>67.0</td>\n",
       "      <td>71.0</td>\n",
       "      <td>right</td>\n",
       "      <td>medium</td>\n",
       "      <td>49.0</td>\n",
       "      <td>...</td>\n",
       "      <td>70.0</td>\n",
       "      <td>45.0</td>\n",
       "      <td>48.0</td>\n",
       "      <td>65.0</td>\n",
       "      <td>69.0</td>\n",
       "      <td>6.0</td>\n",
       "      <td>11.0</td>\n",
       "      <td>10.0</td>\n",
       "      <td>8.0</td>\n",
       "      <td>8.0</td>\n",
       "    </tr>\n",
       "  </tbody>\n",
       "</table>\n",
       "<p>1 rows × 35 columns</p>\n",
       "</div>"
      ],
      "text/plain": [
       "          player_name             birthday  height  weight  \\\n",
       "0  Aaron Appindangoye  1992-02-29 00:00:00  182.88     187   \n",
       "\n",
       "                  date  overall_rating  potential preferred_foot  \\\n",
       "0  2016-02-18 00:00:00            67.0       71.0          right   \n",
       "\n",
       "  defensive_work_rate  crossing  ...  interceptions  positioning  penalties  \\\n",
       "0              medium      49.0  ...           70.0         45.0       48.0   \n",
       "\n",
       "   marking  standing_tackle  gk_diving  gk_handling  gk_kicking  \\\n",
       "0     65.0             69.0        6.0         11.0        10.0   \n",
       "\n",
       "   gk_positioning  gk_reflexes  \n",
       "0             8.0          8.0  \n",
       "\n",
       "[1 rows x 35 columns]"
      ]
     },
     "execution_count": 67,
     "metadata": {},
     "output_type": "execute_result"
    }
   ],
   "source": [
    "# loading data of Players in European Leagues to answer the question\n",
    "df_player = pd.read_csv('player_edited.csv')\n",
    "df_player.head(1)"
   ]
  },
  {
   "cell_type": "markdown",
   "metadata": {},
   "source": [
    "### First, we're going to describe the variables and checking its distribution."
   ]
  },
  {
   "cell_type": "code",
   "execution_count": 68,
   "metadata": {},
   "outputs": [
    {
     "data": {
      "text/html": [
       "<div>\n",
       "<style scoped>\n",
       "    .dataframe tbody tr th:only-of-type {\n",
       "        vertical-align: middle;\n",
       "    }\n",
       "\n",
       "    .dataframe tbody tr th {\n",
       "        vertical-align: top;\n",
       "    }\n",
       "\n",
       "    .dataframe thead th {\n",
       "        text-align: right;\n",
       "    }\n",
       "</style>\n",
       "<table border=\"1\" class=\"dataframe\">\n",
       "  <thead>\n",
       "    <tr style=\"text-align: right;\">\n",
       "      <th></th>\n",
       "      <th>height</th>\n",
       "      <th>weight</th>\n",
       "      <th>overall_rating</th>\n",
       "      <th>potential</th>\n",
       "      <th>crossing</th>\n",
       "      <th>finishing</th>\n",
       "      <th>heading_accuracy</th>\n",
       "      <th>short_passing</th>\n",
       "      <th>dribbling</th>\n",
       "      <th>free_kick_accuracy</th>\n",
       "      <th>...</th>\n",
       "      <th>interceptions</th>\n",
       "      <th>positioning</th>\n",
       "      <th>penalties</th>\n",
       "      <th>marking</th>\n",
       "      <th>standing_tackle</th>\n",
       "      <th>gk_diving</th>\n",
       "      <th>gk_handling</th>\n",
       "      <th>gk_kicking</th>\n",
       "      <th>gk_positioning</th>\n",
       "      <th>gk_reflexes</th>\n",
       "    </tr>\n",
       "  </thead>\n",
       "  <tbody>\n",
       "    <tr>\n",
       "      <th>count</th>\n",
       "      <td>183142.000000</td>\n",
       "      <td>183142.000000</td>\n",
       "      <td>183142.000000</td>\n",
       "      <td>183142.000000</td>\n",
       "      <td>183142.000000</td>\n",
       "      <td>183142.000000</td>\n",
       "      <td>183142.000000</td>\n",
       "      <td>183142.000000</td>\n",
       "      <td>183142.000000</td>\n",
       "      <td>183142.000000</td>\n",
       "      <td>...</td>\n",
       "      <td>183142.000000</td>\n",
       "      <td>183142.000000</td>\n",
       "      <td>183142.000000</td>\n",
       "      <td>183142.000000</td>\n",
       "      <td>183142.000000</td>\n",
       "      <td>183142.000000</td>\n",
       "      <td>183142.000000</td>\n",
       "      <td>183142.000000</td>\n",
       "      <td>183142.000000</td>\n",
       "      <td>183142.000000</td>\n",
       "    </tr>\n",
       "    <tr>\n",
       "      <th>mean</th>\n",
       "      <td>181.875925</td>\n",
       "      <td>168.769463</td>\n",
       "      <td>68.600015</td>\n",
       "      <td>73.460353</td>\n",
       "      <td>55.086883</td>\n",
       "      <td>49.921078</td>\n",
       "      <td>57.266023</td>\n",
       "      <td>62.429672</td>\n",
       "      <td>59.175154</td>\n",
       "      <td>49.380950</td>\n",
       "      <td>...</td>\n",
       "      <td>52.009271</td>\n",
       "      <td>55.786504</td>\n",
       "      <td>55.003986</td>\n",
       "      <td>46.772242</td>\n",
       "      <td>50.351257</td>\n",
       "      <td>14.704393</td>\n",
       "      <td>16.063612</td>\n",
       "      <td>20.998362</td>\n",
       "      <td>16.132154</td>\n",
       "      <td>16.441439</td>\n",
       "    </tr>\n",
       "    <tr>\n",
       "      <th>std</th>\n",
       "      <td>6.394896</td>\n",
       "      <td>15.088820</td>\n",
       "      <td>7.041139</td>\n",
       "      <td>6.592271</td>\n",
       "      <td>17.242135</td>\n",
       "      <td>19.038705</td>\n",
       "      <td>16.488905</td>\n",
       "      <td>14.194068</td>\n",
       "      <td>17.744688</td>\n",
       "      <td>17.831746</td>\n",
       "      <td>...</td>\n",
       "      <td>19.450133</td>\n",
       "      <td>18.448292</td>\n",
       "      <td>15.546519</td>\n",
       "      <td>21.227667</td>\n",
       "      <td>21.483706</td>\n",
       "      <td>16.865467</td>\n",
       "      <td>15.867382</td>\n",
       "      <td>21.452980</td>\n",
       "      <td>16.099175</td>\n",
       "      <td>17.198155</td>\n",
       "    </tr>\n",
       "    <tr>\n",
       "      <th>min</th>\n",
       "      <td>157.480000</td>\n",
       "      <td>117.000000</td>\n",
       "      <td>33.000000</td>\n",
       "      <td>39.000000</td>\n",
       "      <td>1.000000</td>\n",
       "      <td>1.000000</td>\n",
       "      <td>1.000000</td>\n",
       "      <td>3.000000</td>\n",
       "      <td>1.000000</td>\n",
       "      <td>1.000000</td>\n",
       "      <td>...</td>\n",
       "      <td>1.000000</td>\n",
       "      <td>2.000000</td>\n",
       "      <td>2.000000</td>\n",
       "      <td>1.000000</td>\n",
       "      <td>1.000000</td>\n",
       "      <td>1.000000</td>\n",
       "      <td>1.000000</td>\n",
       "      <td>1.000000</td>\n",
       "      <td>1.000000</td>\n",
       "      <td>1.000000</td>\n",
       "    </tr>\n",
       "    <tr>\n",
       "      <th>25%</th>\n",
       "      <td>177.800000</td>\n",
       "      <td>159.000000</td>\n",
       "      <td>64.000000</td>\n",
       "      <td>69.000000</td>\n",
       "      <td>45.000000</td>\n",
       "      <td>34.000000</td>\n",
       "      <td>49.000000</td>\n",
       "      <td>57.000000</td>\n",
       "      <td>52.000000</td>\n",
       "      <td>36.000000</td>\n",
       "      <td>...</td>\n",
       "      <td>34.000000</td>\n",
       "      <td>45.000000</td>\n",
       "      <td>45.000000</td>\n",
       "      <td>25.000000</td>\n",
       "      <td>29.000000</td>\n",
       "      <td>7.000000</td>\n",
       "      <td>8.000000</td>\n",
       "      <td>8.000000</td>\n",
       "      <td>8.000000</td>\n",
       "      <td>8.000000</td>\n",
       "    </tr>\n",
       "    <tr>\n",
       "      <th>50%</th>\n",
       "      <td>182.880000</td>\n",
       "      <td>168.000000</td>\n",
       "      <td>69.000000</td>\n",
       "      <td>74.000000</td>\n",
       "      <td>59.000000</td>\n",
       "      <td>53.000000</td>\n",
       "      <td>60.000000</td>\n",
       "      <td>65.000000</td>\n",
       "      <td>64.000000</td>\n",
       "      <td>50.000000</td>\n",
       "      <td>...</td>\n",
       "      <td>57.000000</td>\n",
       "      <td>60.000000</td>\n",
       "      <td>57.000000</td>\n",
       "      <td>50.000000</td>\n",
       "      <td>56.000000</td>\n",
       "      <td>10.000000</td>\n",
       "      <td>11.000000</td>\n",
       "      <td>12.000000</td>\n",
       "      <td>11.000000</td>\n",
       "      <td>11.000000</td>\n",
       "    </tr>\n",
       "    <tr>\n",
       "      <th>75%</th>\n",
       "      <td>185.420000</td>\n",
       "      <td>179.000000</td>\n",
       "      <td>73.000000</td>\n",
       "      <td>78.000000</td>\n",
       "      <td>68.000000</td>\n",
       "      <td>65.000000</td>\n",
       "      <td>68.000000</td>\n",
       "      <td>72.000000</td>\n",
       "      <td>72.000000</td>\n",
       "      <td>63.000000</td>\n",
       "      <td>...</td>\n",
       "      <td>68.000000</td>\n",
       "      <td>69.000000</td>\n",
       "      <td>67.000000</td>\n",
       "      <td>66.000000</td>\n",
       "      <td>69.000000</td>\n",
       "      <td>13.000000</td>\n",
       "      <td>15.000000</td>\n",
       "      <td>15.000000</td>\n",
       "      <td>15.000000</td>\n",
       "      <td>15.000000</td>\n",
       "    </tr>\n",
       "    <tr>\n",
       "      <th>max</th>\n",
       "      <td>208.280000</td>\n",
       "      <td>243.000000</td>\n",
       "      <td>94.000000</td>\n",
       "      <td>97.000000</td>\n",
       "      <td>95.000000</td>\n",
       "      <td>97.000000</td>\n",
       "      <td>98.000000</td>\n",
       "      <td>97.000000</td>\n",
       "      <td>97.000000</td>\n",
       "      <td>97.000000</td>\n",
       "      <td>...</td>\n",
       "      <td>96.000000</td>\n",
       "      <td>96.000000</td>\n",
       "      <td>96.000000</td>\n",
       "      <td>96.000000</td>\n",
       "      <td>95.000000</td>\n",
       "      <td>94.000000</td>\n",
       "      <td>93.000000</td>\n",
       "      <td>97.000000</td>\n",
       "      <td>96.000000</td>\n",
       "      <td>96.000000</td>\n",
       "    </tr>\n",
       "  </tbody>\n",
       "</table>\n",
       "<p>8 rows × 30 columns</p>\n",
       "</div>"
      ],
      "text/plain": [
       "              height         weight  overall_rating      potential  \\\n",
       "count  183142.000000  183142.000000   183142.000000  183142.000000   \n",
       "mean      181.875925     168.769463       68.600015      73.460353   \n",
       "std         6.394896      15.088820        7.041139       6.592271   \n",
       "min       157.480000     117.000000       33.000000      39.000000   \n",
       "25%       177.800000     159.000000       64.000000      69.000000   \n",
       "50%       182.880000     168.000000       69.000000      74.000000   \n",
       "75%       185.420000     179.000000       73.000000      78.000000   \n",
       "max       208.280000     243.000000       94.000000      97.000000   \n",
       "\n",
       "            crossing      finishing  heading_accuracy  short_passing  \\\n",
       "count  183142.000000  183142.000000     183142.000000  183142.000000   \n",
       "mean       55.086883      49.921078         57.266023      62.429672   \n",
       "std        17.242135      19.038705         16.488905      14.194068   \n",
       "min         1.000000       1.000000          1.000000       3.000000   \n",
       "25%        45.000000      34.000000         49.000000      57.000000   \n",
       "50%        59.000000      53.000000         60.000000      65.000000   \n",
       "75%        68.000000      65.000000         68.000000      72.000000   \n",
       "max        95.000000      97.000000         98.000000      97.000000   \n",
       "\n",
       "           dribbling  free_kick_accuracy  ...  interceptions    positioning  \\\n",
       "count  183142.000000       183142.000000  ...  183142.000000  183142.000000   \n",
       "mean       59.175154           49.380950  ...      52.009271      55.786504   \n",
       "std        17.744688           17.831746  ...      19.450133      18.448292   \n",
       "min         1.000000            1.000000  ...       1.000000       2.000000   \n",
       "25%        52.000000           36.000000  ...      34.000000      45.000000   \n",
       "50%        64.000000           50.000000  ...      57.000000      60.000000   \n",
       "75%        72.000000           63.000000  ...      68.000000      69.000000   \n",
       "max        97.000000           97.000000  ...      96.000000      96.000000   \n",
       "\n",
       "           penalties        marking  standing_tackle      gk_diving  \\\n",
       "count  183142.000000  183142.000000    183142.000000  183142.000000   \n",
       "mean       55.003986      46.772242        50.351257      14.704393   \n",
       "std        15.546519      21.227667        21.483706      16.865467   \n",
       "min         2.000000       1.000000         1.000000       1.000000   \n",
       "25%        45.000000      25.000000        29.000000       7.000000   \n",
       "50%        57.000000      50.000000        56.000000      10.000000   \n",
       "75%        67.000000      66.000000        69.000000      13.000000   \n",
       "max        96.000000      96.000000        95.000000      94.000000   \n",
       "\n",
       "         gk_handling     gk_kicking  gk_positioning    gk_reflexes  \n",
       "count  183142.000000  183142.000000   183142.000000  183142.000000  \n",
       "mean       16.063612      20.998362       16.132154      16.441439  \n",
       "std        15.867382      21.452980       16.099175      17.198155  \n",
       "min         1.000000       1.000000        1.000000       1.000000  \n",
       "25%         8.000000       8.000000        8.000000       8.000000  \n",
       "50%        11.000000      12.000000       11.000000      11.000000  \n",
       "75%        15.000000      15.000000       15.000000      15.000000  \n",
       "max        93.000000      97.000000       96.000000      96.000000  \n",
       "\n",
       "[8 rows x 30 columns]"
      ]
     },
     "execution_count": 68,
     "metadata": {},
     "output_type": "execute_result"
    }
   ],
   "source": [
    "# Describe the data for players' attributes\n",
    "df_player.describe()"
   ]
  },
  {
   "cell_type": "markdown",
   "metadata": {},
   "source": [
    "### The above descriptive statistics show the rating of Players' Attributes for European Leagues Players. This is a rating based on a player's position or performance, so you might see a rating as low as 1 or as high as 97."
   ]
  },
  {
   "cell_type": "code",
   "execution_count": 69,
   "metadata": {},
   "outputs": [
    {
     "data": {
      "image/png": "[encoded data removed]",
      "text/plain": [
       "<Figure size 640x480 with 25 Axes>"
      ]
     },
     "metadata": {},
     "output_type": "display_data"
    }
   ],
   "source": [
    "# Checking the distribution of the data for players' attributes\n",
    "df_player.iloc[: , 2: -5:].hist(alpha=0.5, bins=20, label='Players\\'s Attributes')\n",
    "plt.legend();"
   ]
  },
  {
   "cell_type": "markdown",
   "metadata": {},
   "source": [
    "### The above graphs describe the previous rating of Players' Attributes for European Leagues Players."
   ]
  },
  {
   "cell_type": "markdown",
   "metadata": {},
   "source": [
    "### Second, Visualization of Data Analysis"
   ]
  },
  {
   "cell_type": "code",
   "execution_count": 70,
   "metadata": {},
   "outputs": [
    {
     "name": "stderr",
     "output_type": "stream",
     "text": [
      "C:\\Users\\Hamam\\AppData\\Local\\Temp\\ipykernel_13700\\2825317333.py:3: FutureWarning: Dropping of nuisance columns in DataFrame reductions (with 'numeric_only=None') is deprecated; in a future version this will raise TypeError.  Select only valid columns before calling the reduction.\n",
      "  common_attr = df_top_attr.mean()\n"
     ]
    },
    {
     "data": {
      "text/plain": [
       "height                183.069770\n",
       "weight                171.835249\n",
       "overall_rating         77.733716\n",
       "potential              81.503831\n",
       "crossing               68.687739\n",
       "finishing              63.762452\n",
       "heading_accuracy       62.877395\n",
       "short_passing          76.963602\n",
       "dribbling              75.630268\n",
       "free_kick_accuracy     65.913793\n",
       "long_passing           71.783525\n",
       "ball_control           78.620690\n",
       "acceleration           75.568966\n",
       "sprint_speed           74.340996\n",
       "reactions              74.628352\n",
       "shot_power             75.036398\n",
       "stamina                72.720307\n",
       "strength               72.076628\n",
       "long_shots             70.013410\n",
       "aggression             69.747126\n",
       "interceptions          60.597701\n",
       "positioning            68.174330\n",
       "penalties              68.565134\n",
       "marking                51.923372\n",
       "standing_tackle        58.492337\n",
       "gk_diving               8.109195\n",
       "gk_handling            11.772031\n",
       "gk_kicking             14.795019\n",
       "gk_positioning         10.199234\n",
       "gk_reflexes            10.743295\n",
       "dtype: float64"
      ]
     },
     "execution_count": 70,
     "metadata": {},
     "output_type": "execute_result"
    }
   ],
   "source": [
    "# Filtering by the names of the top ten players and the mean of their attributes\n",
    "df_top_attr= df_player.query('player_name == [\"Alessio Cerci\", \"Claudio Marchisio\", \"Roberto Pereyra\", \"Michael Bradley\", \"Phillippe Mexes\", \"Yacine Brahimi\", \"Aurelien Chedjou\", \"Adel Taarabt\", \"Zdravko Kuzmanovic\", \"Thierry Henry\"]')\n",
    "common_attr = df_top_attr.mean()\n",
    "common_attr"
   ]
  },
  {
   "cell_type": "code",
   "execution_count": 71,
   "metadata": {},
   "outputs": [
    {
     "name": "stderr",
     "output_type": "stream",
     "text": [
      "C:\\Users\\Hamam\\AppData\\Local\\Temp\\ipykernel_13700\\842501695.py:2: FutureWarning: Dropping of nuisance columns in DataFrame reductions (with 'numeric_only=None') is deprecated; in a future version this will raise TypeError.  Select only valid columns before calling the reduction.\n",
      "  common_attr = df_top_attr.mean()[3: -5]\n"
     ]
    }
   ],
   "source": [
    "# Etracting the requried attributes and ignoring unnecessary ones\n",
    "common_attr = df_top_attr.mean()[3: -5]"
   ]
  },
  {
   "cell_type": "code",
   "execution_count": 72,
   "metadata": {},
   "outputs": [
    {
     "data": {
      "text/plain": [
       "potential             81.503831\n",
       "ball_control          78.620690\n",
       "short_passing         76.963602\n",
       "dribbling             75.630268\n",
       "acceleration          75.568966\n",
       "shot_power            75.036398\n",
       "reactions             74.628352\n",
       "sprint_speed          74.340996\n",
       "stamina               72.720307\n",
       "strength              72.076628\n",
       "long_passing          71.783525\n",
       "long_shots            70.013410\n",
       "aggression            69.747126\n",
       "crossing              68.687739\n",
       "penalties             68.565134\n",
       "positioning           68.174330\n",
       "free_kick_accuracy    65.913793\n",
       "finishing             63.762452\n",
       "heading_accuracy      62.877395\n",
       "interceptions         60.597701\n",
       "standing_tackle       58.492337\n",
       "marking               51.923372\n",
       "dtype: float64"
      ]
     },
     "execution_count": 72,
     "metadata": {},
     "output_type": "execute_result"
    }
   ],
   "source": [
    "# Sorting the data by the mean of the most common attributes before plotting\n",
    "common_attr.sort_values(ascending=False, inplace= True)\n",
    "common_attr"
   ]
  },
  {
   "cell_type": "code",
   "execution_count": 74,
   "metadata": {},
   "outputs": [
    {
     "data": {
      "text/plain": [
       "[0.4, 0.2, 0, 0, 0, 0, 0, 0, 0, 0, 0, 0, 0, 0, 0, 0, 0, 0, 0, 0, 0, 0]"
      ]
     },
     "execution_count": 74,
     "metadata": {},
     "output_type": "execute_result"
    }
   ],
   "source": [
    "# Finding explode for pie chart  \n",
    "ind = list(common_attr)\n",
    "explode = []\n",
    "for x in ind :\n",
    "    if x > 80 :\n",
    "        explode.append(0.4)\n",
    "    elif x > 78 :\n",
    "        explode.append(0.2)\n",
    "    else:\n",
    "        explode.append(0)\n",
    "\n",
    "explode"
   ]
  },
  {
   "cell_type": "code",
   "execution_count": 75,
   "metadata": {},
   "outputs": [
    {
     "data": {
      "image/png": "[encoded data removed]",
      "text/plain": [
       "<Figure size 640x480 with 1 Axes>"
      ]
     },
     "metadata": {},
     "output_type": "display_data"
    }
   ],
   "source": [
    "# Visualize analyzed data\n",
    "plt.title(\"Common Attributes with best Ranking Fig-4\", loc = 'center')\n",
    "plt.pie(common_attr,explode = explode, autopct='%1.2f%%', shadow=True, radius=2)\n",
    "plt.legend(common_attr.index, loc=\"center\")\n",
    "plt.show()"
   ]
  },
  {
   "cell_type": "markdown",
   "metadata": {},
   "source": [
    "### The pie chart shows the Common Players' Attributes rating for The Top 10 rating Players\n",
    "> As we observe, The potentail is the most common attribute for The top players followed by ball control attribute and so on."
   ]
  },
  {
   "cell_type": "markdown",
   "metadata": {},
   "source": [
    "### Question 5 (What teams improved the most over the time period? )\n"
   ]
  },
  {
   "cell_type": "markdown",
   "metadata": {},
   "source": [
    "> One of the most logical questions in soccer. What teams improved the most over the time period?\n",
    "<br> We can get the answer by analyzing the teams scoring the most goals and the teams that got the most points over the period."
   ]
  },
  {
   "cell_type": "code",
   "execution_count": 76,
   "metadata": {},
   "outputs": [
    {
     "data": {
      "text/html": [
       "<div>\n",
       "<style scoped>\n",
       "    .dataframe tbody tr th:only-of-type {\n",
       "        vertical-align: middle;\n",
       "    }\n",
       "\n",
       "    .dataframe tbody tr th {\n",
       "        vertical-align: top;\n",
       "    }\n",
       "\n",
       "    .dataframe thead th {\n",
       "        text-align: right;\n",
       "    }\n",
       "</style>\n",
       "<table border=\"1\" class=\"dataframe\">\n",
       "  <thead>\n",
       "    <tr style=\"text-align: right;\">\n",
       "      <th></th>\n",
       "      <th>name</th>\n",
       "      <th>country</th>\n",
       "      <th>stage</th>\n",
       "      <th>date</th>\n",
       "      <th>home_team_api_id</th>\n",
       "      <th>away_team_api_id</th>\n",
       "      <th>home_team_goal</th>\n",
       "      <th>away_team_goal</th>\n",
       "    </tr>\n",
       "  </thead>\n",
       "  <tbody>\n",
       "    <tr>\n",
       "      <th>0</th>\n",
       "      <td>Belgium Jupiler League</td>\n",
       "      <td>Belgium</td>\n",
       "      <td>1</td>\n",
       "      <td>2008-08-17 00:00:00</td>\n",
       "      <td>9987</td>\n",
       "      <td>9993</td>\n",
       "      <td>1</td>\n",
       "      <td>1</td>\n",
       "    </tr>\n",
       "  </tbody>\n",
       "</table>\n",
       "</div>"
      ],
      "text/plain": [
       "                     name  country  stage                 date  \\\n",
       "0  Belgium Jupiler League  Belgium      1  2008-08-17 00:00:00   \n",
       "\n",
       "   home_team_api_id  away_team_api_id  home_team_goal  away_team_goal  \n",
       "0              9987              9993               1               1  "
      ]
     },
     "execution_count": 76,
     "metadata": {},
     "output_type": "execute_result"
    }
   ],
   "source": [
    "# loading data of European Leagues to answer the question\n",
    "df_league = pd.read_csv('league_edited.csv')\n",
    "df_league.head(1)"
   ]
  },
  {
   "cell_type": "code",
   "execution_count": 77,
   "metadata": {},
   "outputs": [],
   "source": [
    "# Creating a new column with home and away team points \n",
    "df_league['home_team_points'] = df_league['home_team_goal'] - df_league['away_team_goal']"
   ]
  },
  {
   "cell_type": "code",
   "execution_count": 78,
   "metadata": {},
   "outputs": [],
   "source": [
    "df_league['away_team_points'] = df_league['away_team_goal'] - df_league['home_team_goal']"
   ]
  },
  {
   "cell_type": "code",
   "execution_count": 79,
   "metadata": {},
   "outputs": [],
   "source": [
    "# Using a function to set 1 point with team draw, zero points when team is lost and three points when team is won\n",
    "# Applying this function for home and away teams\n",
    "def stats(home_team_points):\n",
    "    if home_team_points == 0:\n",
    "        stat = 1\n",
    "    elif home_team_points > 0:\n",
    "        stat = 3\n",
    "    else:\n",
    "        stat = 0\n",
    "    return stat"
   ]
  },
  {
   "cell_type": "code",
   "execution_count": 80,
   "metadata": {},
   "outputs": [],
   "source": [
    "df_league['home_team_points'] = df_league['home_team_points'].apply(lambda x: stats(x))"
   ]
  },
  {
   "cell_type": "code",
   "execution_count": 81,
   "metadata": {},
   "outputs": [],
   "source": [
    "def stats(away_team_points):\n",
    "    if away_team_points == 0:\n",
    "        stat = 1\n",
    "    elif away_team_points > 0:\n",
    "        stat = 3\n",
    "    else:\n",
    "        stat = 0\n",
    "    return stat"
   ]
  },
  {
   "cell_type": "code",
   "execution_count": 82,
   "metadata": {},
   "outputs": [],
   "source": [
    "df_league['away_team_points'] = df_league['away_team_points'].apply(lambda x: stats(x))"
   ]
  },
  {
   "cell_type": "code",
   "execution_count": 83,
   "metadata": {},
   "outputs": [
    {
     "data": {
      "text/html": [
       "<div>\n",
       "<style scoped>\n",
       "    .dataframe tbody tr th:only-of-type {\n",
       "        vertical-align: middle;\n",
       "    }\n",
       "\n",
       "    .dataframe tbody tr th {\n",
       "        vertical-align: top;\n",
       "    }\n",
       "\n",
       "    .dataframe thead th {\n",
       "        text-align: right;\n",
       "    }\n",
       "</style>\n",
       "<table border=\"1\" class=\"dataframe\">\n",
       "  <thead>\n",
       "    <tr style=\"text-align: right;\">\n",
       "      <th></th>\n",
       "      <th>name</th>\n",
       "      <th>country</th>\n",
       "      <th>stage</th>\n",
       "      <th>date</th>\n",
       "      <th>home_team_api_id</th>\n",
       "      <th>away_team_api_id</th>\n",
       "      <th>home_team_goal</th>\n",
       "      <th>away_team_goal</th>\n",
       "      <th>home_team_points</th>\n",
       "      <th>away_team_points</th>\n",
       "    </tr>\n",
       "  </thead>\n",
       "  <tbody>\n",
       "    <tr>\n",
       "      <th>0</th>\n",
       "      <td>Belgium Jupiler League</td>\n",
       "      <td>Belgium</td>\n",
       "      <td>1</td>\n",
       "      <td>2008-08-17 00:00:00</td>\n",
       "      <td>9987</td>\n",
       "      <td>9993</td>\n",
       "      <td>1</td>\n",
       "      <td>1</td>\n",
       "      <td>1</td>\n",
       "      <td>1</td>\n",
       "    </tr>\n",
       "    <tr>\n",
       "      <th>1</th>\n",
       "      <td>Belgium Jupiler League</td>\n",
       "      <td>Belgium</td>\n",
       "      <td>1</td>\n",
       "      <td>2008-08-16 00:00:00</td>\n",
       "      <td>10000</td>\n",
       "      <td>9994</td>\n",
       "      <td>0</td>\n",
       "      <td>0</td>\n",
       "      <td>1</td>\n",
       "      <td>1</td>\n",
       "    </tr>\n",
       "    <tr>\n",
       "      <th>2</th>\n",
       "      <td>Belgium Jupiler League</td>\n",
       "      <td>Belgium</td>\n",
       "      <td>1</td>\n",
       "      <td>2008-08-16 00:00:00</td>\n",
       "      <td>9984</td>\n",
       "      <td>8635</td>\n",
       "      <td>0</td>\n",
       "      <td>3</td>\n",
       "      <td>0</td>\n",
       "      <td>3</td>\n",
       "    </tr>\n",
       "    <tr>\n",
       "      <th>3</th>\n",
       "      <td>Belgium Jupiler League</td>\n",
       "      <td>Belgium</td>\n",
       "      <td>1</td>\n",
       "      <td>2008-08-17 00:00:00</td>\n",
       "      <td>9991</td>\n",
       "      <td>9998</td>\n",
       "      <td>5</td>\n",
       "      <td>0</td>\n",
       "      <td>3</td>\n",
       "      <td>0</td>\n",
       "    </tr>\n",
       "    <tr>\n",
       "      <th>4</th>\n",
       "      <td>Belgium Jupiler League</td>\n",
       "      <td>Belgium</td>\n",
       "      <td>1</td>\n",
       "      <td>2008-08-16 00:00:00</td>\n",
       "      <td>7947</td>\n",
       "      <td>9985</td>\n",
       "      <td>1</td>\n",
       "      <td>3</td>\n",
       "      <td>0</td>\n",
       "      <td>3</td>\n",
       "    </tr>\n",
       "  </tbody>\n",
       "</table>\n",
       "</div>"
      ],
      "text/plain": [
       "                     name  country  stage                 date  \\\n",
       "0  Belgium Jupiler League  Belgium      1  2008-08-17 00:00:00   \n",
       "1  Belgium Jupiler League  Belgium      1  2008-08-16 00:00:00   \n",
       "2  Belgium Jupiler League  Belgium      1  2008-08-16 00:00:00   \n",
       "3  Belgium Jupiler League  Belgium      1  2008-08-17 00:00:00   \n",
       "4  Belgium Jupiler League  Belgium      1  2008-08-16 00:00:00   \n",
       "\n",
       "   home_team_api_id  away_team_api_id  home_team_goal  away_team_goal  \\\n",
       "0              9987              9993               1               1   \n",
       "1             10000              9994               0               0   \n",
       "2              9984              8635               0               3   \n",
       "3              9991              9998               5               0   \n",
       "4              7947              9985               1               3   \n",
       "\n",
       "   home_team_points  away_team_points  \n",
       "0                 1                 1  \n",
       "1                 1                 1  \n",
       "2                 0                 3  \n",
       "3                 3                 0  \n",
       "4                 0                 3  "
      ]
     },
     "execution_count": 83,
     "metadata": {},
     "output_type": "execute_result"
    }
   ],
   "source": [
    "# Inspecting the data frame after the previous steps\n",
    "df_league.head(5)"
   ]
  },
  {
   "cell_type": "code",
   "execution_count": 84,
   "metadata": {},
   "outputs": [
    {
     "data": {
      "text/html": [
       "<div>\n",
       "<style scoped>\n",
       "    .dataframe tbody tr th:only-of-type {\n",
       "        vertical-align: middle;\n",
       "    }\n",
       "\n",
       "    .dataframe tbody tr th {\n",
       "        vertical-align: top;\n",
       "    }\n",
       "\n",
       "    .dataframe thead th {\n",
       "        text-align: right;\n",
       "    }\n",
       "</style>\n",
       "<table border=\"1\" class=\"dataframe\">\n",
       "  <thead>\n",
       "    <tr style=\"text-align: right;\">\n",
       "      <th></th>\n",
       "      <th>team_api_id</th>\n",
       "      <th>team_long_name</th>\n",
       "      <th>team_short_name</th>\n",
       "    </tr>\n",
       "  </thead>\n",
       "  <tbody>\n",
       "    <tr>\n",
       "      <th>0</th>\n",
       "      <td>9987</td>\n",
       "      <td>KRC Genk</td>\n",
       "      <td>GEN</td>\n",
       "    </tr>\n",
       "  </tbody>\n",
       "</table>\n",
       "</div>"
      ],
      "text/plain": [
       "   team_api_id team_long_name team_short_name\n",
       "0         9987       KRC Genk             GEN"
      ]
     },
     "execution_count": 84,
     "metadata": {},
     "output_type": "execute_result"
    }
   ],
   "source": [
    "# loading data of European teams to get the names of teams\n",
    "df_team = pd.read_csv('team_edited.csv')\n",
    "df_team.head(1)"
   ]
  },
  {
   "cell_type": "code",
   "execution_count": 85,
   "metadata": {},
   "outputs": [],
   "source": [
    "# Creating a new data frame a copy of the original to get the name of home teams\n",
    "df_team_home = df_team.copy()"
   ]
  },
  {
   "cell_type": "code",
   "execution_count": 86,
   "metadata": {},
   "outputs": [
    {
     "data": {
      "text/html": [
       "<div>\n",
       "<style scoped>\n",
       "    .dataframe tbody tr th:only-of-type {\n",
       "        vertical-align: middle;\n",
       "    }\n",
       "\n",
       "    .dataframe tbody tr th {\n",
       "        vertical-align: top;\n",
       "    }\n",
       "\n",
       "    .dataframe thead th {\n",
       "        text-align: right;\n",
       "    }\n",
       "</style>\n",
       "<table border=\"1\" class=\"dataframe\">\n",
       "  <thead>\n",
       "    <tr style=\"text-align: right;\">\n",
       "      <th></th>\n",
       "      <th>home_team_api_id</th>\n",
       "      <th>home_team_long_name</th>\n",
       "      <th>home_team_short_name</th>\n",
       "    </tr>\n",
       "  </thead>\n",
       "  <tbody>\n",
       "    <tr>\n",
       "      <th>0</th>\n",
       "      <td>9987</td>\n",
       "      <td>KRC Genk</td>\n",
       "      <td>GEN</td>\n",
       "    </tr>\n",
       "  </tbody>\n",
       "</table>\n",
       "</div>"
      ],
      "text/plain": [
       "   home_team_api_id home_team_long_name home_team_short_name\n",
       "0              9987            KRC Genk                  GEN"
      ]
     },
     "execution_count": 86,
     "metadata": {},
     "output_type": "execute_result"
    }
   ],
   "source": [
    "# Renaming the column in the team file that will be merged with the column in the league file to get matched by the same name\n",
    "df_team_home.rename(columns={'team_api_id' : 'home_team_api_id', 'team_long_name' : 'home_team_long_name', 'team_short_name': 'home_team_short_name'}, inplace= True)\n",
    "df_team_home.head(1)"
   ]
  },
  {
   "cell_type": "code",
   "execution_count": 87,
   "metadata": {},
   "outputs": [],
   "source": [
    "# Applying the merging\n",
    "df_team_pro = df_league.merge(df_team_home, left_on= 'home_team_api_id', right_on = 'home_team_api_id', how='outer')"
   ]
  },
  {
   "cell_type": "code",
   "execution_count": 88,
   "metadata": {},
   "outputs": [
    {
     "data": {
      "text/html": [
       "<div>\n",
       "<style scoped>\n",
       "    .dataframe tbody tr th:only-of-type {\n",
       "        vertical-align: middle;\n",
       "    }\n",
       "\n",
       "    .dataframe tbody tr th {\n",
       "        vertical-align: top;\n",
       "    }\n",
       "\n",
       "    .dataframe thead th {\n",
       "        text-align: right;\n",
       "    }\n",
       "</style>\n",
       "<table border=\"1\" class=\"dataframe\">\n",
       "  <thead>\n",
       "    <tr style=\"text-align: right;\">\n",
       "      <th></th>\n",
       "      <th>away_team_api_id</th>\n",
       "      <th>away_team_long_name</th>\n",
       "      <th>away_team_short_name</th>\n",
       "    </tr>\n",
       "  </thead>\n",
       "  <tbody>\n",
       "    <tr>\n",
       "      <th>0</th>\n",
       "      <td>9987</td>\n",
       "      <td>KRC Genk</td>\n",
       "      <td>GEN</td>\n",
       "    </tr>\n",
       "  </tbody>\n",
       "</table>\n",
       "</div>"
      ],
      "text/plain": [
       "   away_team_api_id away_team_long_name away_team_short_name\n",
       "0              9987            KRC Genk                  GEN"
      ]
     },
     "execution_count": 88,
     "metadata": {},
     "output_type": "execute_result"
    }
   ],
   "source": [
    "# Repeating the same previous steps for away team\n",
    "df_team_away = df_team.copy()\n",
    "df_team_away.rename(columns={'team_api_id' : 'away_team_api_id', 'team_long_name' : 'away_team_long_name', 'team_short_name': 'away_team_short_name'}, inplace= True)\n",
    "df_team_away.head(1)"
   ]
  },
  {
   "cell_type": "code",
   "execution_count": 89,
   "metadata": {},
   "outputs": [],
   "source": [
    "df_team_pro_edited = df_team_pro.merge(df_team_away, left_on= 'away_team_api_id', right_on = 'away_team_api_id', how='outer')"
   ]
  },
  {
   "cell_type": "code",
   "execution_count": 90,
   "metadata": {},
   "outputs": [
    {
     "data": {
      "text/html": [
       "<div>\n",
       "<style scoped>\n",
       "    .dataframe tbody tr th:only-of-type {\n",
       "        vertical-align: middle;\n",
       "    }\n",
       "\n",
       "    .dataframe tbody tr th {\n",
       "        vertical-align: top;\n",
       "    }\n",
       "\n",
       "    .dataframe thead th {\n",
       "        text-align: right;\n",
       "    }\n",
       "</style>\n",
       "<table border=\"1\" class=\"dataframe\">\n",
       "  <thead>\n",
       "    <tr style=\"text-align: right;\">\n",
       "      <th></th>\n",
       "      <th>name</th>\n",
       "      <th>country</th>\n",
       "      <th>stage</th>\n",
       "      <th>date</th>\n",
       "      <th>home_team_api_id</th>\n",
       "      <th>away_team_api_id</th>\n",
       "      <th>home_team_goal</th>\n",
       "      <th>away_team_goal</th>\n",
       "      <th>home_team_points</th>\n",
       "      <th>away_team_points</th>\n",
       "      <th>home_team_long_name</th>\n",
       "      <th>home_team_short_name</th>\n",
       "      <th>away_team_long_name</th>\n",
       "      <th>away_team_short_name</th>\n",
       "    </tr>\n",
       "  </thead>\n",
       "  <tbody>\n",
       "    <tr>\n",
       "      <th>0</th>\n",
       "      <td>Belgium Jupiler League</td>\n",
       "      <td>Belgium</td>\n",
       "      <td>1</td>\n",
       "      <td>2008-08-17 00:00:00</td>\n",
       "      <td>9987</td>\n",
       "      <td>9993</td>\n",
       "      <td>1</td>\n",
       "      <td>1</td>\n",
       "      <td>1</td>\n",
       "      <td>1</td>\n",
       "      <td>KRC Genk</td>\n",
       "      <td>GEN</td>\n",
       "      <td>Beerschot AC</td>\n",
       "      <td>BAC</td>\n",
       "    </tr>\n",
       "  </tbody>\n",
       "</table>\n",
       "</div>"
      ],
      "text/plain": [
       "                     name  country  stage                 date  \\\n",
       "0  Belgium Jupiler League  Belgium      1  2008-08-17 00:00:00   \n",
       "\n",
       "   home_team_api_id  away_team_api_id  home_team_goal  away_team_goal  \\\n",
       "0              9987              9993               1               1   \n",
       "\n",
       "   home_team_points  away_team_points home_team_long_name  \\\n",
       "0                 1                 1            KRC Genk   \n",
       "\n",
       "  home_team_short_name away_team_long_name away_team_short_name  \n",
       "0                  GEN        Beerschot AC                  BAC  "
      ]
     },
     "execution_count": 90,
     "metadata": {},
     "output_type": "execute_result"
    }
   ],
   "source": [
    "df_team_pro_edited.head(1)"
   ]
  },
  {
   "cell_type": "markdown",
   "metadata": {},
   "source": [
    "### First, we're going to describe the variables and checking its distribution."
   ]
  },
  {
   "cell_type": "code",
   "execution_count": 91,
   "metadata": {},
   "outputs": [
    {
     "data": {
      "text/plain": [
       "count    783373.000000\n",
       "mean          1.638225\n",
       "std           1.313266\n",
       "min           0.000000\n",
       "25%           0.000000\n",
       "50%           1.000000\n",
       "75%           3.000000\n",
       "max           3.000000\n",
       "Name: home_team_points, dtype: float64"
      ]
     },
     "execution_count": 91,
     "metadata": {},
     "output_type": "execute_result"
    }
   ],
   "source": [
    "# Describe the data of home team points\n",
    "df_team_pro_edited['home_team_points'].describe()"
   ]
  },
  {
   "cell_type": "markdown",
   "metadata": {},
   "source": [
    "### The above descriptive statistics show the Home Team points over the time period. 3 points for victory is the maximum points , zero points for lose is the minimum points and 1.6 points per match is the mean."
   ]
  },
  {
   "cell_type": "code",
   "execution_count": 92,
   "metadata": {},
   "outputs": [
    {
     "data": {
      "text/plain": [
       "count    783373.000000\n",
       "mean          1.108661\n",
       "std           1.261201\n",
       "min           0.000000\n",
       "25%           0.000000\n",
       "50%           1.000000\n",
       "75%           3.000000\n",
       "max           3.000000\n",
       "Name: away_team_points, dtype: float64"
      ]
     },
     "execution_count": 92,
     "metadata": {},
     "output_type": "execute_result"
    }
   ],
   "source": [
    "# Describe the data of away team points\n",
    "df_team_pro_edited['away_team_points'].describe()"
   ]
  },
  {
   "cell_type": "markdown",
   "metadata": {},
   "source": [
    "### The above descriptive statistics show the Away Team points over the time period. 3 points for victory is the maximum points , zero points for lose is the minimum points and 1.1 points per match is the mean."
   ]
  },
  {
   "cell_type": "code",
   "execution_count": 93,
   "metadata": {},
   "outputs": [
    {
     "data": {
      "text/plain": [
       "count    783373.000000\n",
       "mean          1.552868\n",
       "std           1.300841\n",
       "min           0.000000\n",
       "25%           1.000000\n",
       "50%           1.000000\n",
       "75%           2.000000\n",
       "max          10.000000\n",
       "Name: home_team_goal, dtype: float64"
      ]
     },
     "execution_count": 93,
     "metadata": {},
     "output_type": "execute_result"
    }
   ],
   "source": [
    "# Describe the data of home team goals\n",
    "df_team_pro_edited['home_team_goal'].describe()"
   ]
  },
  {
   "cell_type": "markdown",
   "metadata": {},
   "source": [
    "### The above descriptive statistics show the Home Team goals over the time period. 10 goals per game is the maximum value and 1.5 goals per game is the mean"
   ]
  },
  {
   "cell_type": "code",
   "execution_count": 94,
   "metadata": {},
   "outputs": [
    {
     "data": {
      "text/plain": [
       "count    783373.000000\n",
       "mean          1.160433\n",
       "std           1.141608\n",
       "min           0.000000\n",
       "25%           0.000000\n",
       "50%           1.000000\n",
       "75%           2.000000\n",
       "max           9.000000\n",
       "Name: away_team_goal, dtype: float64"
      ]
     },
     "execution_count": 94,
     "metadata": {},
     "output_type": "execute_result"
    }
   ],
   "source": [
    "# Describe the data of away team goals\n",
    "df_team_pro_edited['away_team_goal'].describe()"
   ]
  },
  {
   "cell_type": "markdown",
   "metadata": {},
   "source": [
    "### The above descriptive statistics show the Away Team goals over the time period. 9 goals per game is the maximum value and 1.2 goals per game is the mean"
   ]
  },
  {
   "cell_type": "code",
   "execution_count": 95,
   "metadata": {},
   "outputs": [
    {
     "data": {
      "image/png": "[encoded data removed]",
      "text/plain": [
       "<Figure size 640x480 with 1 Axes>"
      ]
     },
     "metadata": {},
     "output_type": "display_data"
    }
   ],
   "source": [
    "# Checking the distribution of the data for teams' points\n",
    "df_team_pro_edited.boxplot(column=['home_team_points', 'away_team_points']);"
   ]
  },
  {
   "cell_type": "markdown",
   "metadata": {},
   "source": [
    "### The above graph describes the previous statistics of the mean for Home and Away team points per game over the time period."
   ]
  },
  {
   "cell_type": "code",
   "execution_count": 96,
   "metadata": {},
   "outputs": [
    {
     "data": {
      "image/png": "[encoded data removed]",
      "text/plain": [
       "<Figure size 640x480 with 1 Axes>"
      ]
     },
     "metadata": {},
     "output_type": "display_data"
    }
   ],
   "source": [
    "# Checking the distribution of the data for teams' goals\n",
    "df_team_pro_edited.boxplot(column=['home_team_goal', 'away_team_goal']);"
   ]
  },
  {
   "cell_type": "markdown",
   "metadata": {},
   "source": [
    "### The above graph describes the previous statistics of the mean for Home and Away team goals per game over the time period."
   ]
  },
  {
   "cell_type": "markdown",
   "metadata": {},
   "source": [
    "### Second, Visualization of Data Analysis"
   ]
  },
  {
   "cell_type": "code",
   "execution_count": 97,
   "metadata": {},
   "outputs": [
    {
     "data": {
      "text/plain": [
       "home_team_long_name\n",
       "FC Barcelona      2.661798\n",
       "FC Porto          2.631933\n",
       "Real Madrid CF    2.608989\n",
       "SL Benfica        2.563025\n",
       "Celtic            2.513055\n",
       "Name: home_team_points, dtype: float64"
      ]
     },
     "execution_count": 97,
     "metadata": {},
     "output_type": "execute_result"
    }
   ],
   "source": [
    "# Filtering by home teams' names and team points to get the teams that had the highest average points\n",
    "best_points_home = df_team_pro_edited.groupby('home_team_long_name')['home_team_points'].mean()\n",
    "best_points_home.nlargest(n=5)"
   ]
  },
  {
   "cell_type": "code",
   "execution_count": 98,
   "metadata": {},
   "outputs": [
    {
     "data": {
      "text/plain": [
       "away_team_long_name\n",
       "FC Barcelona      2.221348\n",
       "Rangers           2.118388\n",
       "SL Benfica        2.104202\n",
       "Real Madrid CF    2.102247\n",
       "FC Porto          2.094118\n",
       "Name: away_team_points, dtype: float64"
      ]
     },
     "execution_count": 98,
     "metadata": {},
     "output_type": "execute_result"
    }
   ],
   "source": [
    "# The same for away teams\n",
    "best_points_away = df_team_pro_edited.groupby('away_team_long_name')['away_team_points'].mean()\n",
    "best_points_away.nlargest(n=5)"
   ]
  },
  {
   "cell_type": "code",
   "execution_count": 99,
   "metadata": {},
   "outputs": [
    {
     "data": {
      "text/plain": [
       "home_team_long_name\n",
       "FC Barcelona      2.441573\n",
       "FC Porto          2.363025\n",
       "Real Madrid CF    2.355618\n",
       "SL Benfica        2.333613\n",
       "Celtic            2.296271\n",
       "dtype: float64"
      ]
     },
     "execution_count": 99,
     "metadata": {},
     "output_type": "execute_result"
    }
   ],
   "source": [
    "# Getting the teams with the highest average points over the time period\n",
    "best_points_all = (best_points_home + best_points_away)/2\n",
    "best_points_all\n",
    "best_points_all.nlargest(n=5)"
   ]
  },
  {
   "cell_type": "code",
   "execution_count": 100,
   "metadata": {},
   "outputs": [],
   "source": [
    "# Visualize analyzed data\n",
    "ind = best_points_all.nlargest(n=5).index\n",
    "values = best_points_all.nlargest(n=5)"
   ]
  },
  {
   "cell_type": "code",
   "execution_count": 101,
   "metadata": {},
   "outputs": [
    {
     "data": {
      "image/png": "[encoded data removed]",
      "text/plain": [
       "<Figure size 640x480 with 1 Axes>"
      ]
     },
     "metadata": {},
     "output_type": "display_data"
    }
   ],
   "source": [
    "plt.scatter(ind, values, marker='*');\n",
    "plt.title('Greatest Teams over the time period Fig-5A');\n",
    "plt.xlabel('Best 5 Teams');\n",
    "plt.ylabel('Total of points over the time period');"
   ]
  },
  {
   "cell_type": "markdown",
   "metadata": {},
   "source": [
    "### The above graph shows the Top 5 teams that had the most points over the time period.\n",
    "> As we observe, The most team that had the most points is FC Barcelona followed by FC Porto and so on."
   ]
  },
  {
   "cell_type": "code",
   "execution_count": 102,
   "metadata": {},
   "outputs": [
    {
     "data": {
      "text/plain": [
       "home_team_long_name\n",
       "Real Madrid CF      3.316854\n",
       "FC Barcelona        3.258427\n",
       "FC Bayern Munich    2.810710\n",
       "PSV                 2.697406\n",
       "Ajax                2.592219\n",
       "Name: home_team_goal, dtype: float64"
      ]
     },
     "execution_count": 102,
     "metadata": {},
     "output_type": "execute_result"
    }
   ],
   "source": [
    "# Getting home teams with the highest average goals over the period\n",
    "best_goals_home = df_team_pro_edited.groupby('home_team_long_name')['home_team_goal'].mean()\n",
    "best_goals_home.nlargest(n=5)"
   ]
  },
  {
   "cell_type": "code",
   "execution_count": 103,
   "metadata": {},
   "outputs": [
    {
     "data": {
      "text/plain": [
       "away_team_long_name\n",
       "FC Barcelona        2.317978\n",
       "Real Madrid CF      2.212360\n",
       "Ajax                2.048991\n",
       "Celtic              1.993590\n",
       "FC Bayern Munich    1.990037\n",
       "Name: away_team_goal, dtype: float64"
      ]
     },
     "execution_count": 103,
     "metadata": {},
     "output_type": "execute_result"
    }
   ],
   "source": [
    "# The same for away teams\n",
    "best_goals_away = df_team_pro_edited.groupby('away_team_long_name')['away_team_goal'].mean()\n",
    "best_goals_away.nlargest(n=5)"
   ]
  },
  {
   "cell_type": "code",
   "execution_count": 104,
   "metadata": {},
   "outputs": [
    {
     "data": {
      "text/plain": [
       "home_team_long_name\n",
       "FC Barcelona        2.788202\n",
       "Real Madrid CF      2.764607\n",
       "FC Bayern Munich    2.400374\n",
       "PSV                 2.325648\n",
       "Ajax                2.320605\n",
       "dtype: float64"
      ]
     },
     "execution_count": 104,
     "metadata": {},
     "output_type": "execute_result"
    }
   ],
   "source": [
    "# Getting the teams with the highest average goals over the time period\n",
    "best_goals_all = (best_goals_home + best_goals_away)/2\n",
    "best_goals_all\n",
    "best_goals_all.nlargest(n=5)"
   ]
  },
  {
   "cell_type": "code",
   "execution_count": 105,
   "metadata": {},
   "outputs": [],
   "source": [
    "# Visualize analyzed data\n",
    "ind = best_goals_all.nlargest(n=5).index\n",
    "values = best_goals_all.nlargest(n=5)"
   ]
  },
  {
   "cell_type": "code",
   "execution_count": 106,
   "metadata": {},
   "outputs": [
    {
     "data": {
      "image/png": "[encoded data removed]",
      "text/plain": [
       "<Figure size 640x480 with 1 Axes>"
      ]
     },
     "metadata": {},
     "output_type": "display_data"
    }
   ],
   "source": [
    "plt.scatter(ind, values, marker='*');\n",
    "plt.title('Greatest Teams over the time period Fig-5B');\n",
    "plt.xlabel('Best 5 Teams');\n",
    "plt.ylabel('Total of points over the time period');\n"
   ]
  },
  {
   "cell_type": "markdown",
   "metadata": {},
   "source": [
    "### The above graph shows the Top 5 teams that had the most goals over the time period.\n",
    "> As we observe, The most team that had the most goals is FC Barcelona followed by Real Madrid CF and so on."
   ]
  },
  {
   "cell_type": "markdown",
   "metadata": {},
   "source": [
    "<a id='conclusions'></a>\n",
    "## Conclusions\n",
    "\n",
    "<br> The European Soccer datasets are massive one, They included data related to **European** **Leagues**, **Players**, **Teams**, **Matches**, and **Players'** and **Teams' Attributes**.\n",
    "<br> I've asked a few fan questions that might help data analysts specialize in this field from my point of view, but of course, there's a lot that hasn't come up yet.\n",
    "<br> Observing and looking at the whole view, now we have an answer to every question we've asked.\n",
    "\n",
    " <br><li>**What is the effect of playing home over away games?**\n",
    " <br>Observing fig 1....The percentage of  home victories is about <u>**61.5%**</u> ,  It's a percentage not to be underestimated.\n",
    "    \n",
    "  It's a percentage not to be underestimated. \n",
    " <br><li>**What is the most leagues scoring goals over the time period?**\n",
    " <br>Observing fig 2....In first place is the <u>**Spain Liga BBVA**</u>, followed by the <u>**England Premier League**</u>, followed by the <u>**Italy Serie A**</u>, and the other Leagues according to the figure.\n",
    "     \n",
    "| | League Name  | Total Goals    |\n",
    "|---:|:-------------|:-----------|\n",
    "| 1 | Spain LIGA BBVA| 8412       |\n",
    "| 2 | England Premier League| 8240   |\n",
    "| 3 | Italy Serie A| 7895| \n",
    "| 4 | Netherlands Eredivisie| 7542    | \n",
    "| 5 | France Ligue 1| 7427  |                 \n",
    "| 6 | Germany 1. Bundesliga| 7103  |  \n",
    "| 7 | Portugal Liga ZON Sagres| 5201  |  \n",
    "| 8 | Belgium Jupiler League| 4841 |  \n",
    "| 9 | Scotland Premier League| 4804 | \n",
    "| 10 | Poland Ekstraklasa| 4656 | \n",
    "| 11 | Switzerland Super League| 4166 |   \n",
    "    \n",
    " <br><li>**What are the top ten players with the best ranking over the time period?**\n",
    " <br>Observing fig 3....the Top 10 Players based on average ratings from 2008 to 2016 \n",
    "     \n",
    "| | Player Name  | BirthDay    |Avg Rating|\n",
    "|---:|:-------------|:-----------|:-----------|\n",
    "| 1 | Lionel Messi|  1987-06-24    | 92.192308  |\n",
    "| 2 | Cristiano Ronaldo| 1985-02-05 | 91.280000  |\n",
    "| 3 | Franck Ribery| 1983-04-07   |  88.458333 |\n",
    "| 4 | Andres Iniesta|  1984-05-11 | 88.320000  |\n",
    "| 5 | Zlatan Ibrahimovic|1981-10-03   | 88.285714  |   \n",
    "| 6 | Arjen Robben|   1984-01-23  |  87.840000 |\n",
    "| 7 | Xavi Hernandez|  1980-01-25 |  87.636364 |\n",
    "| 8 | Wayne Rooney|   1985-10-24   | 87.222222  |\n",
    "| 9 | Iker Casillas|1981-05-20 | 86.954545  |\n",
    "| 10 | Philipp Lahm|   1983-11-11  | 86.733333  |\n",
    "       \n",
    " <br><li>**What are the most common attributes of the players with the best ranking over the time period?**\n",
    " <br>Observing fig 4....knowing the most common attributes of the Top 10 Players would be useful to improve these attributes for other Players, Herein table in order of average of these attributes for top ten players\n",
    "     \n",
    "| | Attributes Name  | Total Avg    |\n",
    "|---:|:-------------|:-----------|\n",
    "| 1 | potential |   81.503831   |\n",
    "| 2 | ball_control | 78.620690  |\n",
    "| 3 | short_passing | 76.963602  |\n",
    "| 4 | dribbling | 75.630268  | \n",
    "| 5 | acceleration | 75.568966   |                 \n",
    "| 6 | shot_power | 75.036398  |  \n",
    "| 7 | reactions |  74.628352 |  \n",
    "| 8 | sprint_speed | 74.340996  |  \n",
    "| 9 | stamina | 72.720307  | \n",
    "| 10 |strength |  72.076628 | \n",
    "| 11 |long_passing| 71.783525  |  \n",
    "| 12 |  long_shots| 70.013410  |\n",
    "| 13 |  aggression| 69.747126  |\n",
    "| 14|  crossing| 68.687739  |\n",
    "| 15| penalties | 68.565134 | \n",
    "| 16| positioning | 68.174330  |                 \n",
    "| 17|  free_kick_accuracy|  65.913793 |  \n",
    "| 18|  finishing| 63.762452  |  \n",
    "| 19| heading_accuracy | 62.877395  |  \n",
    "| 20| interceptions | 60.597701  | \n",
    "| 21 | standing_tackle | 58.492337  | \n",
    "| 22 |marking|  51.923372 |  \n",
    "    \n",
    " <br><li>**What are the best teams over the time period?**\n",
    " <br>Observing fig 5....The best teams are the higher points with higher scoring goals during the period.\n",
    " <br>No doubt the points that you've gotten and the goals you've scored are the best way to introduce the quality of the team\n",
    " <br>Herein a table for the best teams with high goals and one for high points\n",
    "     \n",
    "| | Team Name  | Avr Goals    |  Team Name   | Avr Points     |                                               \n",
    "|---:|:-------------|:-----------|:-----------|:-----------|   \n",
    "| 1 | FC Barcelona| 2.788202 | FC Barcelona | 2.441573 |       \n",
    "| 2 | Real Madrid CF| 2.764607 |  FC Porto | 2.363025 |        \n",
    "| 3 | FC Bayern Munich | 2.400374  |Real Madrid CF| 2.355618 |  \n",
    "| 4 | PSV | 2.325648 | SL Benfica | 2.333613 |       \n",
    "| 5 | Ajax | 2.320605 | Celtic | 2.296271 |           \n",
    "        \n",
    " \n",
    "     \n",
    "         \n",
    "      \n",
    "    \n",
    "                 \n",
    "                \n",
    "\n",
    "     \n",
    "           \n",
    "          \n",
    "    \n",
    "        \n",
    "            "
   ]
  },
  {
   "cell_type": "markdown",
   "metadata": {},
   "source": [
    "## There were limitations of databases that obstacle the data analysis process.\n",
    "#### For example:\n",
    "\n",
    "<br>1- There are unsuitable numbers of used files that contain similar data, those files are merged by using pandas to reduce the number of used files and to prevent existing the same data in more than a file.\n",
    "><br><li> The Player data file and the player's attributes data file are merged together.\n",
    "<br><li> The Team data file and the team's attributes data file are merged together.\n",
    "<br><li> The Country data file, match data file and the league data file are merged togehter.\n",
    "    \n",
    "<br>2- There are unsuitable names and duplicated names for columns' labels of used files. Those labels are renamed to a suitable one.\n",
    "><br><li> The country's label in the country file is renamed -from (name label) to (country label)- to avoid repeating the names of the columns in the data frame\n",
    " \n",
    "<br>3- Because the data were merged to reduce the number of files, some unnecessary columns appeared in the data analysis and were removed.\n",
    "><br><li> Unnecessary columns of the Team Data file are dropped.\n",
    " <br><li> Unnecessary columns of the Player Data file are dropped.\n",
    " <br><li> Unnecessary columns of the League Data file are dropped.\n",
    "   \n",
    "<br>4- There are duplicate values in the data frame that must be worked out and erased, otherwise, they will give real results when analyzing the data.\n",
    "><br><li> Duplicated data in Team data file are removed.\n",
    "    \n",
    "<br>5- The Null values or zero values if they are not manipulated, It produces undesired results.\n",
    "><br><li> Missing values in Team Data are dropped.    \n",
    " <br><li> Missing values in Player Data are dropped.    \n",
    " <br><li> Missing values in League Data are dropped.    "
   ]
  },
  {
   "cell_type": "markdown",
   "metadata": {},
   "source": [
    "## Note :"
   ]
  },
  {
   "cell_type": "markdown",
   "metadata": {},
   "source": [
    "#### During the journey to analyze the data of European Soccer Leagues, I imagined that there were some features related to the fans' interaction with the game such as the number of attendees in important matches and tournaments\n",
    "#### What about the number of team tournaments during this period, the number of tournaments is a more realistic indicator than the most points and goals scored when analyzing the best teams during this period"
   ]
  },
  {
   "cell_type": "markdown",
   "metadata": {},
   "source": [
    "## Herein is a list of websites I usually use to find a new method or to reinforce the studied methods in my mind"
   ]
  },
  {
   "cell_type": "markdown",
   "metadata": {},
   "source": [
    "<a href=\"https://stackoverflow.com/\">stackoverflow.com</a>\n",
    "<br><a href=\"https://www.kaggle.com/\">kaggle.com</a>\n",
    "<br><a href=\"https://www.geeksforgeeks.org/\">geeksforgeeks.org</a>\n",
    "<br><a href=\"https://github.com/\">github.com</a>\n",
    "<br><a href=\"https://www.w3schools.com/\">w3schools.com</a>\n",
    "<br><a href=\"https://www.w3resource.com/\">w3resource.com</a>\n"
   ]
  }
 ],
 "metadata": {
  "kernelspec": {
   "display_name": "Python 3 (ipykernel)",
   "language": "python",
   "name": "python3"
  },
  "language_info": {
   "codemirror_mode": {
    "name": "ipython",
    "version": 3
   },
   "file_extension": ".py",
   "mimetype": "text/x-python",
   "name": "python",
   "nbconvert_exporter": "python",
   "pygments_lexer": "ipython3",
   "version": "3.9.13"
  }
 },
 "nbformat": 4,
 "nbformat_minor": 2
}
